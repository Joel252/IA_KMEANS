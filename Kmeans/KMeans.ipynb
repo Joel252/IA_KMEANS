{
 "cells": [
  {
   "cell_type": "markdown",
   "metadata": {},
   "source": [
    "# **K Means Para la clasificación de Genomas**"
   ]
  },
  {
   "cell_type": "markdown",
   "metadata": {},
   "source": [
    "### **1. Importar librerias**"
   ]
  },
  {
   "cell_type": "code",
   "execution_count": 2,
   "metadata": {},
   "outputs": [],
   "source": [
    "import pandas as pd\n",
    "import numpy as np"
   ]
  },
  {
   "cell_type": "code",
   "execution_count": 3,
   "metadata": {},
   "outputs": [],
   "source": [
    "from sklearn.cluster import KMeans\n",
    "from sklearn.metrics import silhouette_score"
   ]
  },
  {
   "cell_type": "code",
   "execution_count": null,
   "metadata": {},
   "outputs": [],
   "source": [
    "import cufflinks as cf\n",
    "cf.set_config_file(theme='solar', offline=True)"
   ]
  },
  {
   "cell_type": "code",
   "execution_count": 4,
   "metadata": {},
   "outputs": [],
   "source": [
    "from IPython.display import HTML\n",
    "import webbrowser\n",
    "from string import Template\n",
    "import json"
   ]
  },
  {
   "cell_type": "markdown",
   "metadata": {},
   "source": [
    "### **2. Obtener datos iniciales**"
   ]
  },
  {
   "cell_type": "code",
   "execution_count": 2,
   "metadata": {},
   "outputs": [],
   "source": [
    "df_upper = pd.DataFrame()\n",
    "\n",
    "# Lista de archivos con los genomas\n",
    "csv_files = ['AI_files/sims_All_Genomes_13V_0_500.txt', 'AI_files/sims_All_Genomes_13V_500_800.txt', 'AI_files/sims_All_Genomes_13V_800_1300.txt',\n",
    "             'AI_files/sims_All_Genomes_13V_1300_2000.txt', 'AI_files/sims_All_Genomes_13V_2000_2350.txt', 'AI_files/sims_All_Genomes_13V_2350_3222.txt']\n",
    "\n",
    "for file in csv_files:\n",
    "    df_upper = pd.concat([df_upper, pd.read_csv(file, header=None)]) # Lectura y concatenación de los archivos en dataFrame"
   ]
  },
  {
   "cell_type": "markdown",
   "metadata": {},
   "source": [
    "### **3. Dar formato a la matriz**"
   ]
  },
  {
   "cell_type": "markdown",
   "metadata": {},
   "source": [
    "#### 3.1 Formatear como matriz triangular superior"
   ]
  },
  {
   "cell_type": "markdown",
   "metadata": {},
   "source": [
    "Los datos tienen forma de una matriz triangular superior, pero se encuentran corrido a la izquierda, por lo tanto, los datos tenián que ser formateados a la derecha."
   ]
  },
  {
   "cell_type": "code",
   "execution_count": 3,
   "metadata": {},
   "outputs": [],
   "source": [
    "for i in range(len(df_upper)):\n",
    "    if i == 0:  # Omitir la primera fila\n",
    "        continue\n",
    "\n",
    "    flip_nucleoids = np.flip(np.array(df_upper.iloc[i]))  # Invertir fila\n",
    "\n",
    "    list_nucleoids = np.delete(flip_nucleoids, range(i)) # Eliminar elementos NaN\n",
    "    list_nucleoids = np.flip(list_nucleoids)  # Des-invertir fila\n",
    "\n",
    "    df_upper.iloc[i] = np.concatenate((np.zeros(i), list_nucleoids), axis=0)  # Devolver fila formateada"
   ]
  },
  {
   "cell_type": "markdown",
   "metadata": {},
   "source": [
    "#### 3.2 Completar matriz"
   ]
  },
  {
   "cell_type": "markdown",
   "metadata": {},
   "source": [
    "Debído a que es una matriz de correlación y su forma es la de una matriz triangular superior, utilicé esta misma matriz para completar la parte inferior faltante y apliqué 1's en la diagonal."
   ]
  },
  {
   "cell_type": "code",
   "execution_count": 8,
   "metadata": {},
   "outputs": [],
   "source": [
    "df_zeros = pd.DataFrame(np.zeros(3221)) # Crear dataFrame con 0's\n",
    "\n",
    "df_upper.reset_index(drop=True, inplace=True) # Reindexar dataFrame\n",
    "df_upper = pd.concat([df_zeros, df_upper], axis=1) # Concatenar columna\n",
    "df_upper = pd.concat([df_upper, df_zeros.transpose()], ignore_index=True) # Concatenar fila"
   ]
  },
  {
   "cell_type": "code",
   "execution_count": 26,
   "metadata": {},
   "outputs": [],
   "source": [
    "matrix = np.asarray(df_upper) + np.identity(3222) + np.asarray(df_upper.transpose()) # Sumar matrices"
   ]
  },
  {
   "cell_type": "markdown",
   "metadata": {},
   "source": [
    "#### 3.3 Exportar matriz"
   ]
  },
  {
   "cell_type": "code",
   "execution_count": 27,
   "metadata": {},
   "outputs": [],
   "source": [
    "pd.DataFrame(matrix).to_csv('sims_All_Genomes_13V.txt', header=None, index=False) # Generar archivo txt con los datos de la matriz"
   ]
  },
  {
   "cell_type": "markdown",
   "metadata": {},
   "source": [
    "### **4. Determinar el valor optimo de K**"
   ]
  },
  {
   "cell_type": "markdown",
   "metadata": {},
   "source": [
    "#### 4.1 Obtener datos"
   ]
  },
  {
   "cell_type": "code",
   "execution_count": 6,
   "metadata": {},
   "outputs": [],
   "source": [
    "df_genomes = pd.read_csv('sims_All_Genomes_13V.txt', header=None) # Lectura de archivo con la matriz de los genomas\n",
    "matrix = np.asarray(df_genomes) # Convertir df_genomes a una matriz"
   ]
  },
  {
   "cell_type": "markdown",
   "metadata": {},
   "source": [
    "Decidí establecer el rango de los grupos de [8 , 73) con una diferencia de 4 grupos entre cada uno. La razón de esta decisión fué porque consideré innesesario iterar con un incremento de 1 grupo ya que la diferencia con respecto a la anterior iteración es insignificante."
   ]
  },
  {
   "cell_type": "code",
   "execution_count": 30,
   "metadata": {},
   "outputs": [],
   "source": [
    "k = range(8, 73, 4) # Establecer rango de los grupos"
   ]
  },
  {
   "cell_type": "markdown",
   "metadata": {},
   "source": [
    "#### 4.2 Graficar Elbow Curve"
   ]
  },
  {
   "cell_type": "markdown",
   "metadata": {},
   "source": [
    "Para encontrar el número de grupos optimos para mis datos, he utilizado el método del codo para visualizar el comportamiento en cada uno de los grupos totales."
   ]
  },
  {
   "cell_type": "code",
   "execution_count": null,
   "metadata": {},
   "outputs": [],
   "source": [
    "wcss = []\n",
    "for i in k:\n",
    "    kmeans = KMeans(n_clusters=i) #entrenar modelo\n",
    "    wcss.append(kmeans.fit(matrix).inertia_) # Guadar valor de la suma de cuadrados de los grupos"
   ]
  },
  {
   "cell_type": "code",
   "execution_count": 64,
   "metadata": {},
   "outputs": [
    {
     "data": {
      "application/vnd.plotly.v1+json": {
       "config": {
        "linkText": "Export to plot.ly",
        "plotlyServerURL": "https://plot.ly",
        "showLink": true
       },
       "data": [
        {
         "line": {
          "color": "rgba(255, 153, 51, 1.0)",
          "dash": "solid",
          "shape": "linear",
          "width": 1.3
         },
         "mode": "lines",
         "name": "0",
         "text": "",
         "type": "scatter",
         "x": [
          8,
          12,
          16,
          20,
          24,
          28,
          32,
          36,
          40,
          44,
          48,
          52,
          56,
          60,
          64,
          68,
          72
         ],
         "y": [
          5605.847967021766,
          4339.411242253572,
          3898.494105920247,
          3534.8248268946477,
          3262.0303100843435,
          3083.89626418761,
          2910.0303349768196,
          2815.0005704549003,
          2715.736187239353,
          2656.9954858438364,
          2599.2807441502614,
          2559.2548735067003,
          2508.677628608956,
          2473.6830653636625,
          2444.6064098452243,
          2412.633445385612,
          2391.817973876337
         ]
        }
       ],
       "layout": {
        "height": 400,
        "legend": {
         "bgcolor": "#151516",
         "font": {
          "color": "#D9D9D9"
         }
        },
        "paper_bgcolor": "#151516",
        "plot_bgcolor": "#151516",
        "template": {
         "data": {
          "bar": [
           {
            "error_x": {
             "color": "#2a3f5f"
            },
            "error_y": {
             "color": "#2a3f5f"
            },
            "marker": {
             "line": {
              "color": "#E5ECF6",
              "width": 0.5
             },
             "pattern": {
              "fillmode": "overlay",
              "size": 10,
              "solidity": 0.2
             }
            },
            "type": "bar"
           }
          ],
          "barpolar": [
           {
            "marker": {
             "line": {
              "color": "#E5ECF6",
              "width": 0.5
             },
             "pattern": {
              "fillmode": "overlay",
              "size": 10,
              "solidity": 0.2
             }
            },
            "type": "barpolar"
           }
          ],
          "carpet": [
           {
            "aaxis": {
             "endlinecolor": "#2a3f5f",
             "gridcolor": "white",
             "linecolor": "white",
             "minorgridcolor": "white",
             "startlinecolor": "#2a3f5f"
            },
            "baxis": {
             "endlinecolor": "#2a3f5f",
             "gridcolor": "white",
             "linecolor": "white",
             "minorgridcolor": "white",
             "startlinecolor": "#2a3f5f"
            },
            "type": "carpet"
           }
          ],
          "choropleth": [
           {
            "colorbar": {
             "outlinewidth": 0,
             "ticks": ""
            },
            "type": "choropleth"
           }
          ],
          "contour": [
           {
            "colorbar": {
             "outlinewidth": 0,
             "ticks": ""
            },
            "colorscale": [
             [
              0,
              "#0d0887"
             ],
             [
              0.1111111111111111,
              "#46039f"
             ],
             [
              0.2222222222222222,
              "#7201a8"
             ],
             [
              0.3333333333333333,
              "#9c179e"
             ],
             [
              0.4444444444444444,
              "#bd3786"
             ],
             [
              0.5555555555555556,
              "#d8576b"
             ],
             [
              0.6666666666666666,
              "#ed7953"
             ],
             [
              0.7777777777777778,
              "#fb9f3a"
             ],
             [
              0.8888888888888888,
              "#fdca26"
             ],
             [
              1,
              "#f0f921"
             ]
            ],
            "type": "contour"
           }
          ],
          "contourcarpet": [
           {
            "colorbar": {
             "outlinewidth": 0,
             "ticks": ""
            },
            "type": "contourcarpet"
           }
          ],
          "heatmap": [
           {
            "colorbar": {
             "outlinewidth": 0,
             "ticks": ""
            },
            "colorscale": [
             [
              0,
              "#0d0887"
             ],
             [
              0.1111111111111111,
              "#46039f"
             ],
             [
              0.2222222222222222,
              "#7201a8"
             ],
             [
              0.3333333333333333,
              "#9c179e"
             ],
             [
              0.4444444444444444,
              "#bd3786"
             ],
             [
              0.5555555555555556,
              "#d8576b"
             ],
             [
              0.6666666666666666,
              "#ed7953"
             ],
             [
              0.7777777777777778,
              "#fb9f3a"
             ],
             [
              0.8888888888888888,
              "#fdca26"
             ],
             [
              1,
              "#f0f921"
             ]
            ],
            "type": "heatmap"
           }
          ],
          "heatmapgl": [
           {
            "colorbar": {
             "outlinewidth": 0,
             "ticks": ""
            },
            "colorscale": [
             [
              0,
              "#0d0887"
             ],
             [
              0.1111111111111111,
              "#46039f"
             ],
             [
              0.2222222222222222,
              "#7201a8"
             ],
             [
              0.3333333333333333,
              "#9c179e"
             ],
             [
              0.4444444444444444,
              "#bd3786"
             ],
             [
              0.5555555555555556,
              "#d8576b"
             ],
             [
              0.6666666666666666,
              "#ed7953"
             ],
             [
              0.7777777777777778,
              "#fb9f3a"
             ],
             [
              0.8888888888888888,
              "#fdca26"
             ],
             [
              1,
              "#f0f921"
             ]
            ],
            "type": "heatmapgl"
           }
          ],
          "histogram": [
           {
            "marker": {
             "pattern": {
              "fillmode": "overlay",
              "size": 10,
              "solidity": 0.2
             }
            },
            "type": "histogram"
           }
          ],
          "histogram2d": [
           {
            "colorbar": {
             "outlinewidth": 0,
             "ticks": ""
            },
            "colorscale": [
             [
              0,
              "#0d0887"
             ],
             [
              0.1111111111111111,
              "#46039f"
             ],
             [
              0.2222222222222222,
              "#7201a8"
             ],
             [
              0.3333333333333333,
              "#9c179e"
             ],
             [
              0.4444444444444444,
              "#bd3786"
             ],
             [
              0.5555555555555556,
              "#d8576b"
             ],
             [
              0.6666666666666666,
              "#ed7953"
             ],
             [
              0.7777777777777778,
              "#fb9f3a"
             ],
             [
              0.8888888888888888,
              "#fdca26"
             ],
             [
              1,
              "#f0f921"
             ]
            ],
            "type": "histogram2d"
           }
          ],
          "histogram2dcontour": [
           {
            "colorbar": {
             "outlinewidth": 0,
             "ticks": ""
            },
            "colorscale": [
             [
              0,
              "#0d0887"
             ],
             [
              0.1111111111111111,
              "#46039f"
             ],
             [
              0.2222222222222222,
              "#7201a8"
             ],
             [
              0.3333333333333333,
              "#9c179e"
             ],
             [
              0.4444444444444444,
              "#bd3786"
             ],
             [
              0.5555555555555556,
              "#d8576b"
             ],
             [
              0.6666666666666666,
              "#ed7953"
             ],
             [
              0.7777777777777778,
              "#fb9f3a"
             ],
             [
              0.8888888888888888,
              "#fdca26"
             ],
             [
              1,
              "#f0f921"
             ]
            ],
            "type": "histogram2dcontour"
           }
          ],
          "mesh3d": [
           {
            "colorbar": {
             "outlinewidth": 0,
             "ticks": ""
            },
            "type": "mesh3d"
           }
          ],
          "parcoords": [
           {
            "line": {
             "colorbar": {
              "outlinewidth": 0,
              "ticks": ""
             }
            },
            "type": "parcoords"
           }
          ],
          "pie": [
           {
            "automargin": true,
            "type": "pie"
           }
          ],
          "scatter": [
           {
            "fillpattern": {
             "fillmode": "overlay",
             "size": 10,
             "solidity": 0.2
            },
            "type": "scatter"
           }
          ],
          "scatter3d": [
           {
            "line": {
             "colorbar": {
              "outlinewidth": 0,
              "ticks": ""
             }
            },
            "marker": {
             "colorbar": {
              "outlinewidth": 0,
              "ticks": ""
             }
            },
            "type": "scatter3d"
           }
          ],
          "scattercarpet": [
           {
            "marker": {
             "colorbar": {
              "outlinewidth": 0,
              "ticks": ""
             }
            },
            "type": "scattercarpet"
           }
          ],
          "scattergeo": [
           {
            "marker": {
             "colorbar": {
              "outlinewidth": 0,
              "ticks": ""
             }
            },
            "type": "scattergeo"
           }
          ],
          "scattergl": [
           {
            "marker": {
             "colorbar": {
              "outlinewidth": 0,
              "ticks": ""
             }
            },
            "type": "scattergl"
           }
          ],
          "scattermapbox": [
           {
            "marker": {
             "colorbar": {
              "outlinewidth": 0,
              "ticks": ""
             }
            },
            "type": "scattermapbox"
           }
          ],
          "scatterpolar": [
           {
            "marker": {
             "colorbar": {
              "outlinewidth": 0,
              "ticks": ""
             }
            },
            "type": "scatterpolar"
           }
          ],
          "scatterpolargl": [
           {
            "marker": {
             "colorbar": {
              "outlinewidth": 0,
              "ticks": ""
             }
            },
            "type": "scatterpolargl"
           }
          ],
          "scatterternary": [
           {
            "marker": {
             "colorbar": {
              "outlinewidth": 0,
              "ticks": ""
             }
            },
            "type": "scatterternary"
           }
          ],
          "surface": [
           {
            "colorbar": {
             "outlinewidth": 0,
             "ticks": ""
            },
            "colorscale": [
             [
              0,
              "#0d0887"
             ],
             [
              0.1111111111111111,
              "#46039f"
             ],
             [
              0.2222222222222222,
              "#7201a8"
             ],
             [
              0.3333333333333333,
              "#9c179e"
             ],
             [
              0.4444444444444444,
              "#bd3786"
             ],
             [
              0.5555555555555556,
              "#d8576b"
             ],
             [
              0.6666666666666666,
              "#ed7953"
             ],
             [
              0.7777777777777778,
              "#fb9f3a"
             ],
             [
              0.8888888888888888,
              "#fdca26"
             ],
             [
              1,
              "#f0f921"
             ]
            ],
            "type": "surface"
           }
          ],
          "table": [
           {
            "cells": {
             "fill": {
              "color": "#EBF0F8"
             },
             "line": {
              "color": "white"
             }
            },
            "header": {
             "fill": {
              "color": "#C8D4E3"
             },
             "line": {
              "color": "white"
             }
            },
            "type": "table"
           }
          ]
         },
         "layout": {
          "annotationdefaults": {
           "arrowcolor": "#2a3f5f",
           "arrowhead": 0,
           "arrowwidth": 1
          },
          "autotypenumbers": "strict",
          "coloraxis": {
           "colorbar": {
            "outlinewidth": 0,
            "ticks": ""
           }
          },
          "colorscale": {
           "diverging": [
            [
             0,
             "#8e0152"
            ],
            [
             0.1,
             "#c51b7d"
            ],
            [
             0.2,
             "#de77ae"
            ],
            [
             0.3,
             "#f1b6da"
            ],
            [
             0.4,
             "#fde0ef"
            ],
            [
             0.5,
             "#f7f7f7"
            ],
            [
             0.6,
             "#e6f5d0"
            ],
            [
             0.7,
             "#b8e186"
            ],
            [
             0.8,
             "#7fbc41"
            ],
            [
             0.9,
             "#4d9221"
            ],
            [
             1,
             "#276419"
            ]
           ],
           "sequential": [
            [
             0,
             "#0d0887"
            ],
            [
             0.1111111111111111,
             "#46039f"
            ],
            [
             0.2222222222222222,
             "#7201a8"
            ],
            [
             0.3333333333333333,
             "#9c179e"
            ],
            [
             0.4444444444444444,
             "#bd3786"
            ],
            [
             0.5555555555555556,
             "#d8576b"
            ],
            [
             0.6666666666666666,
             "#ed7953"
            ],
            [
             0.7777777777777778,
             "#fb9f3a"
            ],
            [
             0.8888888888888888,
             "#fdca26"
            ],
            [
             1,
             "#f0f921"
            ]
           ],
           "sequentialminus": [
            [
             0,
             "#0d0887"
            ],
            [
             0.1111111111111111,
             "#46039f"
            ],
            [
             0.2222222222222222,
             "#7201a8"
            ],
            [
             0.3333333333333333,
             "#9c179e"
            ],
            [
             0.4444444444444444,
             "#bd3786"
            ],
            [
             0.5555555555555556,
             "#d8576b"
            ],
            [
             0.6666666666666666,
             "#ed7953"
            ],
            [
             0.7777777777777778,
             "#fb9f3a"
            ],
            [
             0.8888888888888888,
             "#fdca26"
            ],
            [
             1,
             "#f0f921"
            ]
           ]
          },
          "colorway": [
           "#636efa",
           "#EF553B",
           "#00cc96",
           "#ab63fa",
           "#FFA15A",
           "#19d3f3",
           "#FF6692",
           "#B6E880",
           "#FF97FF",
           "#FECB52"
          ],
          "font": {
           "color": "#2a3f5f"
          },
          "geo": {
           "bgcolor": "white",
           "lakecolor": "white",
           "landcolor": "#E5ECF6",
           "showlakes": true,
           "showland": true,
           "subunitcolor": "white"
          },
          "hoverlabel": {
           "align": "left"
          },
          "hovermode": "closest",
          "mapbox": {
           "style": "light"
          },
          "paper_bgcolor": "white",
          "plot_bgcolor": "#E5ECF6",
          "polar": {
           "angularaxis": {
            "gridcolor": "white",
            "linecolor": "white",
            "ticks": ""
           },
           "bgcolor": "#E5ECF6",
           "radialaxis": {
            "gridcolor": "white",
            "linecolor": "white",
            "ticks": ""
           }
          },
          "scene": {
           "xaxis": {
            "backgroundcolor": "#E5ECF6",
            "gridcolor": "white",
            "gridwidth": 2,
            "linecolor": "white",
            "showbackground": true,
            "ticks": "",
            "zerolinecolor": "white"
           },
           "yaxis": {
            "backgroundcolor": "#E5ECF6",
            "gridcolor": "white",
            "gridwidth": 2,
            "linecolor": "white",
            "showbackground": true,
            "ticks": "",
            "zerolinecolor": "white"
           },
           "zaxis": {
            "backgroundcolor": "#E5ECF6",
            "gridcolor": "white",
            "gridwidth": 2,
            "linecolor": "white",
            "showbackground": true,
            "ticks": "",
            "zerolinecolor": "white"
           }
          },
          "shapedefaults": {
           "line": {
            "color": "#2a3f5f"
           }
          },
          "ternary": {
           "aaxis": {
            "gridcolor": "white",
            "linecolor": "white",
            "ticks": ""
           },
           "baxis": {
            "gridcolor": "white",
            "linecolor": "white",
            "ticks": ""
           },
           "bgcolor": "#E5ECF6",
           "caxis": {
            "gridcolor": "white",
            "linecolor": "white",
            "ticks": ""
           }
          },
          "title": {
           "x": 0.05
          },
          "xaxis": {
           "automargin": true,
           "gridcolor": "white",
           "linecolor": "white",
           "ticks": "",
           "title": {
            "standoff": 15
           },
           "zerolinecolor": "white",
           "zerolinewidth": 2
          },
          "yaxis": {
           "automargin": true,
           "gridcolor": "white",
           "linecolor": "white",
           "ticks": "",
           "title": {
            "standoff": 15
           },
           "zerolinecolor": "white",
           "zerolinewidth": 2
          }
         }
        },
        "title": {
         "font": {
          "color": "#D9D9D9"
         },
         "text": "Elbow Curve"
        },
        "width": 900,
        "xaxis": {
         "gridcolor": "#434343",
         "showgrid": true,
         "tickfont": {
          "color": "#C2C2C2"
         },
         "title": {
          "font": {
           "color": "#D9D9D9"
          },
          "text": "Número de clusters"
         },
         "zerolinecolor": "#666570"
        },
        "yaxis": {
         "gridcolor": "#434343",
         "showgrid": true,
         "tickfont": {
          "color": "#C2C2C2"
         },
         "title": {
          "font": {
           "color": "#D9D9D9"
          },
          "text": "WCSS"
         },
         "zerolinecolor": "#666570"
        }
       }
      },
      "text/html": [
       "<div>                            <div id=\"d1683e52-9298-4d48-a0f5-f6ae317d6cc3\" class=\"plotly-graph-div\" style=\"height:400px; width:900px;\"></div>            <script type=\"text/javascript\">                require([\"plotly\"], function(Plotly) {                    window.PLOTLYENV=window.PLOTLYENV || {};\n",
       "                    window.PLOTLYENV.BASE_URL='https://plot.ly';                                    if (document.getElementById(\"d1683e52-9298-4d48-a0f5-f6ae317d6cc3\")) {                    Plotly.newPlot(                        \"d1683e52-9298-4d48-a0f5-f6ae317d6cc3\",                        [{\"line\":{\"color\":\"rgba(255, 153, 51, 1.0)\",\"dash\":\"solid\",\"shape\":\"linear\",\"width\":1.3},\"mode\":\"lines\",\"name\":\"0\",\"text\":\"\",\"x\":[8,12,16,20,24,28,32,36,40,44,48,52,56,60,64,68,72],\"y\":[5605.847967021766,4339.411242253572,3898.494105920247,3534.8248268946477,3262.0303100843435,3083.89626418761,2910.0303349768196,2815.0005704549003,2715.736187239353,2656.9954858438364,2599.2807441502614,2559.2548735067003,2508.677628608956,2473.6830653636625,2444.6064098452243,2412.633445385612,2391.817973876337],\"type\":\"scatter\"}],                        {\"height\":400,\"legend\":{\"bgcolor\":\"#151516\",\"font\":{\"color\":\"#D9D9D9\"}},\"paper_bgcolor\":\"#151516\",\"plot_bgcolor\":\"#151516\",\"template\":{\"data\":{\"barpolar\":[{\"marker\":{\"line\":{\"color\":\"#E5ECF6\",\"width\":0.5},\"pattern\":{\"fillmode\":\"overlay\",\"size\":10,\"solidity\":0.2}},\"type\":\"barpolar\"}],\"bar\":[{\"error_x\":{\"color\":\"#2a3f5f\"},\"error_y\":{\"color\":\"#2a3f5f\"},\"marker\":{\"line\":{\"color\":\"#E5ECF6\",\"width\":0.5},\"pattern\":{\"fillmode\":\"overlay\",\"size\":10,\"solidity\":0.2}},\"type\":\"bar\"}],\"carpet\":[{\"aaxis\":{\"endlinecolor\":\"#2a3f5f\",\"gridcolor\":\"white\",\"linecolor\":\"white\",\"minorgridcolor\":\"white\",\"startlinecolor\":\"#2a3f5f\"},\"baxis\":{\"endlinecolor\":\"#2a3f5f\",\"gridcolor\":\"white\",\"linecolor\":\"white\",\"minorgridcolor\":\"white\",\"startlinecolor\":\"#2a3f5f\"},\"type\":\"carpet\"}],\"choropleth\":[{\"colorbar\":{\"outlinewidth\":0,\"ticks\":\"\"},\"type\":\"choropleth\"}],\"contourcarpet\":[{\"colorbar\":{\"outlinewidth\":0,\"ticks\":\"\"},\"type\":\"contourcarpet\"}],\"contour\":[{\"colorbar\":{\"outlinewidth\":0,\"ticks\":\"\"},\"colorscale\":[[0.0,\"#0d0887\"],[0.1111111111111111,\"#46039f\"],[0.2222222222222222,\"#7201a8\"],[0.3333333333333333,\"#9c179e\"],[0.4444444444444444,\"#bd3786\"],[0.5555555555555556,\"#d8576b\"],[0.6666666666666666,\"#ed7953\"],[0.7777777777777778,\"#fb9f3a\"],[0.8888888888888888,\"#fdca26\"],[1.0,\"#f0f921\"]],\"type\":\"contour\"}],\"heatmapgl\":[{\"colorbar\":{\"outlinewidth\":0,\"ticks\":\"\"},\"colorscale\":[[0.0,\"#0d0887\"],[0.1111111111111111,\"#46039f\"],[0.2222222222222222,\"#7201a8\"],[0.3333333333333333,\"#9c179e\"],[0.4444444444444444,\"#bd3786\"],[0.5555555555555556,\"#d8576b\"],[0.6666666666666666,\"#ed7953\"],[0.7777777777777778,\"#fb9f3a\"],[0.8888888888888888,\"#fdca26\"],[1.0,\"#f0f921\"]],\"type\":\"heatmapgl\"}],\"heatmap\":[{\"colorbar\":{\"outlinewidth\":0,\"ticks\":\"\"},\"colorscale\":[[0.0,\"#0d0887\"],[0.1111111111111111,\"#46039f\"],[0.2222222222222222,\"#7201a8\"],[0.3333333333333333,\"#9c179e\"],[0.4444444444444444,\"#bd3786\"],[0.5555555555555556,\"#d8576b\"],[0.6666666666666666,\"#ed7953\"],[0.7777777777777778,\"#fb9f3a\"],[0.8888888888888888,\"#fdca26\"],[1.0,\"#f0f921\"]],\"type\":\"heatmap\"}],\"histogram2dcontour\":[{\"colorbar\":{\"outlinewidth\":0,\"ticks\":\"\"},\"colorscale\":[[0.0,\"#0d0887\"],[0.1111111111111111,\"#46039f\"],[0.2222222222222222,\"#7201a8\"],[0.3333333333333333,\"#9c179e\"],[0.4444444444444444,\"#bd3786\"],[0.5555555555555556,\"#d8576b\"],[0.6666666666666666,\"#ed7953\"],[0.7777777777777778,\"#fb9f3a\"],[0.8888888888888888,\"#fdca26\"],[1.0,\"#f0f921\"]],\"type\":\"histogram2dcontour\"}],\"histogram2d\":[{\"colorbar\":{\"outlinewidth\":0,\"ticks\":\"\"},\"colorscale\":[[0.0,\"#0d0887\"],[0.1111111111111111,\"#46039f\"],[0.2222222222222222,\"#7201a8\"],[0.3333333333333333,\"#9c179e\"],[0.4444444444444444,\"#bd3786\"],[0.5555555555555556,\"#d8576b\"],[0.6666666666666666,\"#ed7953\"],[0.7777777777777778,\"#fb9f3a\"],[0.8888888888888888,\"#fdca26\"],[1.0,\"#f0f921\"]],\"type\":\"histogram2d\"}],\"histogram\":[{\"marker\":{\"pattern\":{\"fillmode\":\"overlay\",\"size\":10,\"solidity\":0.2}},\"type\":\"histogram\"}],\"mesh3d\":[{\"colorbar\":{\"outlinewidth\":0,\"ticks\":\"\"},\"type\":\"mesh3d\"}],\"parcoords\":[{\"line\":{\"colorbar\":{\"outlinewidth\":0,\"ticks\":\"\"}},\"type\":\"parcoords\"}],\"pie\":[{\"automargin\":true,\"type\":\"pie\"}],\"scatter3d\":[{\"line\":{\"colorbar\":{\"outlinewidth\":0,\"ticks\":\"\"}},\"marker\":{\"colorbar\":{\"outlinewidth\":0,\"ticks\":\"\"}},\"type\":\"scatter3d\"}],\"scattercarpet\":[{\"marker\":{\"colorbar\":{\"outlinewidth\":0,\"ticks\":\"\"}},\"type\":\"scattercarpet\"}],\"scattergeo\":[{\"marker\":{\"colorbar\":{\"outlinewidth\":0,\"ticks\":\"\"}},\"type\":\"scattergeo\"}],\"scattergl\":[{\"marker\":{\"colorbar\":{\"outlinewidth\":0,\"ticks\":\"\"}},\"type\":\"scattergl\"}],\"scattermapbox\":[{\"marker\":{\"colorbar\":{\"outlinewidth\":0,\"ticks\":\"\"}},\"type\":\"scattermapbox\"}],\"scatterpolargl\":[{\"marker\":{\"colorbar\":{\"outlinewidth\":0,\"ticks\":\"\"}},\"type\":\"scatterpolargl\"}],\"scatterpolar\":[{\"marker\":{\"colorbar\":{\"outlinewidth\":0,\"ticks\":\"\"}},\"type\":\"scatterpolar\"}],\"scatter\":[{\"fillpattern\":{\"fillmode\":\"overlay\",\"size\":10,\"solidity\":0.2},\"type\":\"scatter\"}],\"scatterternary\":[{\"marker\":{\"colorbar\":{\"outlinewidth\":0,\"ticks\":\"\"}},\"type\":\"scatterternary\"}],\"surface\":[{\"colorbar\":{\"outlinewidth\":0,\"ticks\":\"\"},\"colorscale\":[[0.0,\"#0d0887\"],[0.1111111111111111,\"#46039f\"],[0.2222222222222222,\"#7201a8\"],[0.3333333333333333,\"#9c179e\"],[0.4444444444444444,\"#bd3786\"],[0.5555555555555556,\"#d8576b\"],[0.6666666666666666,\"#ed7953\"],[0.7777777777777778,\"#fb9f3a\"],[0.8888888888888888,\"#fdca26\"],[1.0,\"#f0f921\"]],\"type\":\"surface\"}],\"table\":[{\"cells\":{\"fill\":{\"color\":\"#EBF0F8\"},\"line\":{\"color\":\"white\"}},\"header\":{\"fill\":{\"color\":\"#C8D4E3\"},\"line\":{\"color\":\"white\"}},\"type\":\"table\"}]},\"layout\":{\"annotationdefaults\":{\"arrowcolor\":\"#2a3f5f\",\"arrowhead\":0,\"arrowwidth\":1},\"autotypenumbers\":\"strict\",\"coloraxis\":{\"colorbar\":{\"outlinewidth\":0,\"ticks\":\"\"}},\"colorscale\":{\"diverging\":[[0,\"#8e0152\"],[0.1,\"#c51b7d\"],[0.2,\"#de77ae\"],[0.3,\"#f1b6da\"],[0.4,\"#fde0ef\"],[0.5,\"#f7f7f7\"],[0.6,\"#e6f5d0\"],[0.7,\"#b8e186\"],[0.8,\"#7fbc41\"],[0.9,\"#4d9221\"],[1,\"#276419\"]],\"sequential\":[[0.0,\"#0d0887\"],[0.1111111111111111,\"#46039f\"],[0.2222222222222222,\"#7201a8\"],[0.3333333333333333,\"#9c179e\"],[0.4444444444444444,\"#bd3786\"],[0.5555555555555556,\"#d8576b\"],[0.6666666666666666,\"#ed7953\"],[0.7777777777777778,\"#fb9f3a\"],[0.8888888888888888,\"#fdca26\"],[1.0,\"#f0f921\"]],\"sequentialminus\":[[0.0,\"#0d0887\"],[0.1111111111111111,\"#46039f\"],[0.2222222222222222,\"#7201a8\"],[0.3333333333333333,\"#9c179e\"],[0.4444444444444444,\"#bd3786\"],[0.5555555555555556,\"#d8576b\"],[0.6666666666666666,\"#ed7953\"],[0.7777777777777778,\"#fb9f3a\"],[0.8888888888888888,\"#fdca26\"],[1.0,\"#f0f921\"]]},\"colorway\":[\"#636efa\",\"#EF553B\",\"#00cc96\",\"#ab63fa\",\"#FFA15A\",\"#19d3f3\",\"#FF6692\",\"#B6E880\",\"#FF97FF\",\"#FECB52\"],\"font\":{\"color\":\"#2a3f5f\"},\"geo\":{\"bgcolor\":\"white\",\"lakecolor\":\"white\",\"landcolor\":\"#E5ECF6\",\"showlakes\":true,\"showland\":true,\"subunitcolor\":\"white\"},\"hoverlabel\":{\"align\":\"left\"},\"hovermode\":\"closest\",\"mapbox\":{\"style\":\"light\"},\"paper_bgcolor\":\"white\",\"plot_bgcolor\":\"#E5ECF6\",\"polar\":{\"angularaxis\":{\"gridcolor\":\"white\",\"linecolor\":\"white\",\"ticks\":\"\"},\"bgcolor\":\"#E5ECF6\",\"radialaxis\":{\"gridcolor\":\"white\",\"linecolor\":\"white\",\"ticks\":\"\"}},\"scene\":{\"xaxis\":{\"backgroundcolor\":\"#E5ECF6\",\"gridcolor\":\"white\",\"gridwidth\":2,\"linecolor\":\"white\",\"showbackground\":true,\"ticks\":\"\",\"zerolinecolor\":\"white\"},\"yaxis\":{\"backgroundcolor\":\"#E5ECF6\",\"gridcolor\":\"white\",\"gridwidth\":2,\"linecolor\":\"white\",\"showbackground\":true,\"ticks\":\"\",\"zerolinecolor\":\"white\"},\"zaxis\":{\"backgroundcolor\":\"#E5ECF6\",\"gridcolor\":\"white\",\"gridwidth\":2,\"linecolor\":\"white\",\"showbackground\":true,\"ticks\":\"\",\"zerolinecolor\":\"white\"}},\"shapedefaults\":{\"line\":{\"color\":\"#2a3f5f\"}},\"ternary\":{\"aaxis\":{\"gridcolor\":\"white\",\"linecolor\":\"white\",\"ticks\":\"\"},\"baxis\":{\"gridcolor\":\"white\",\"linecolor\":\"white\",\"ticks\":\"\"},\"bgcolor\":\"#E5ECF6\",\"caxis\":{\"gridcolor\":\"white\",\"linecolor\":\"white\",\"ticks\":\"\"}},\"title\":{\"x\":0.05},\"xaxis\":{\"automargin\":true,\"gridcolor\":\"white\",\"linecolor\":\"white\",\"ticks\":\"\",\"title\":{\"standoff\":15},\"zerolinecolor\":\"white\",\"zerolinewidth\":2},\"yaxis\":{\"automargin\":true,\"gridcolor\":\"white\",\"linecolor\":\"white\",\"ticks\":\"\",\"title\":{\"standoff\":15},\"zerolinecolor\":\"white\",\"zerolinewidth\":2}}},\"title\":{\"font\":{\"color\":\"#D9D9D9\"},\"text\":\"Elbow Curve\"},\"width\":900,\"xaxis\":{\"gridcolor\":\"#434343\",\"showgrid\":true,\"tickfont\":{\"color\":\"#C2C2C2\"},\"title\":{\"font\":{\"color\":\"#D9D9D9\"},\"text\":\"N\\u00famero de clusters\"},\"zerolinecolor\":\"#666570\"},\"yaxis\":{\"gridcolor\":\"#434343\",\"showgrid\":true,\"tickfont\":{\"color\":\"#C2C2C2\"},\"title\":{\"font\":{\"color\":\"#D9D9D9\"},\"text\":\"WCSS\"},\"zerolinecolor\":\"#666570\"}},                        {\"showLink\": true, \"linkText\": \"Export to plot.ly\", \"plotlyServerURL\": \"https://plot.ly\", \"responsive\": true}                    ).then(function(){\n",
       "                            \n",
       "var gd = document.getElementById('d1683e52-9298-4d48-a0f5-f6ae317d6cc3');\n",
       "var x = new MutationObserver(function (mutations, observer) {{\n",
       "        var display = window.getComputedStyle(gd).display;\n",
       "        if (!display || display === 'none') {{\n",
       "            console.log([gd, 'removed!']);\n",
       "            Plotly.purge(gd);\n",
       "            observer.disconnect();\n",
       "        }}\n",
       "}});\n",
       "\n",
       "// Listen for the removal of the full notebook cells\n",
       "var notebookContainer = gd.closest('#notebook-container');\n",
       "if (notebookContainer) {{\n",
       "    x.observe(notebookContainer, {childList: true});\n",
       "}}\n",
       "\n",
       "// Listen for the clearing of the current output cell\n",
       "var outputEl = gd.closest('.output');\n",
       "if (outputEl) {{\n",
       "    x.observe(outputEl, {childList: true});\n",
       "}}\n",
       "\n",
       "                        })                };                });            </script>        </div>"
      ]
     },
     "metadata": {},
     "output_type": "display_data"
    }
   ],
   "source": [
    "df_elbow = pd.DataFrame(wcss, k)\n",
    "df_elbow.iplot(dimensions=(900, 400), xTitle='Número de clusters', yTitle='WCSS', title='Elbow Curve') # Mostrar gráfico"
   ]
  },
  {
   "cell_type": "markdown",
   "metadata": {},
   "source": [
    "A partir del método del codo representado en la gráfica anterior, decidí seleccionar 12 grupos porque en ese punto la curva se empieza a atenuar y por tanto, expresa la mayor parte de la variabilidad. Aunque, como la gráfica de codo no era tan evidente, utilice el método de silueta para corraborar mi decisión."
   ]
  },
  {
   "cell_type": "markdown",
   "metadata": {},
   "source": [
    "#### 4.3 Graficar Silhouette"
   ]
  },
  {
   "cell_type": "code",
   "execution_count": 38,
   "metadata": {},
   "outputs": [],
   "source": [
    "score = []\n",
    "for i in k:\n",
    "    kmeans = KMeans(n_clusters=i) #entrenar modelo\n",
    "    labels = kmeans.fit(matrix).labels_\n",
    "    score.append(silhouette_score(matrix, labels, metric='euclidean')) # Guadar valor del coeficiente de silhouette"
   ]
  },
  {
   "cell_type": "code",
   "execution_count": 63,
   "metadata": {},
   "outputs": [
    {
     "data": {
      "application/vnd.plotly.v1+json": {
       "config": {
        "linkText": "Export to plot.ly",
        "plotlyServerURL": "https://plot.ly",
        "showLink": true
       },
       "data": [
        {
         "line": {
          "color": "rgba(255, 153, 51, 1.0)",
          "dash": "solid",
          "shape": "linear",
          "width": 1.3
         },
         "mode": "lines",
         "name": "0",
         "text": "",
         "type": "scatter",
         "x": [
          8,
          12,
          16,
          20,
          24,
          28,
          32,
          36,
          40,
          44,
          48,
          52,
          56,
          60,
          64,
          68,
          72
         ],
         "y": [
          0.20381146614108422,
          0.2128538950683173,
          0.18601978650022577,
          0.17105495900782758,
          0.17913353348935537,
          0.18407403574626038,
          0.16680364906015702,
          0.17649516338799834,
          0.15325916624862765,
          0.15620395284985283,
          0.14171569090840203,
          0.13653016868566187,
          0.13808106173437046,
          0.12984038015539257,
          0.11997062036222608,
          0.1294959711472989,
          0.10657140628394358
         ]
        }
       ],
       "layout": {
        "height": 400,
        "legend": {
         "bgcolor": "#151516",
         "font": {
          "color": "#D9D9D9"
         }
        },
        "paper_bgcolor": "#151516",
        "plot_bgcolor": "#151516",
        "template": {
         "data": {
          "bar": [
           {
            "error_x": {
             "color": "#2a3f5f"
            },
            "error_y": {
             "color": "#2a3f5f"
            },
            "marker": {
             "line": {
              "color": "#E5ECF6",
              "width": 0.5
             },
             "pattern": {
              "fillmode": "overlay",
              "size": 10,
              "solidity": 0.2
             }
            },
            "type": "bar"
           }
          ],
          "barpolar": [
           {
            "marker": {
             "line": {
              "color": "#E5ECF6",
              "width": 0.5
             },
             "pattern": {
              "fillmode": "overlay",
              "size": 10,
              "solidity": 0.2
             }
            },
            "type": "barpolar"
           }
          ],
          "carpet": [
           {
            "aaxis": {
             "endlinecolor": "#2a3f5f",
             "gridcolor": "white",
             "linecolor": "white",
             "minorgridcolor": "white",
             "startlinecolor": "#2a3f5f"
            },
            "baxis": {
             "endlinecolor": "#2a3f5f",
             "gridcolor": "white",
             "linecolor": "white",
             "minorgridcolor": "white",
             "startlinecolor": "#2a3f5f"
            },
            "type": "carpet"
           }
          ],
          "choropleth": [
           {
            "colorbar": {
             "outlinewidth": 0,
             "ticks": ""
            },
            "type": "choropleth"
           }
          ],
          "contour": [
           {
            "colorbar": {
             "outlinewidth": 0,
             "ticks": ""
            },
            "colorscale": [
             [
              0,
              "#0d0887"
             ],
             [
              0.1111111111111111,
              "#46039f"
             ],
             [
              0.2222222222222222,
              "#7201a8"
             ],
             [
              0.3333333333333333,
              "#9c179e"
             ],
             [
              0.4444444444444444,
              "#bd3786"
             ],
             [
              0.5555555555555556,
              "#d8576b"
             ],
             [
              0.6666666666666666,
              "#ed7953"
             ],
             [
              0.7777777777777778,
              "#fb9f3a"
             ],
             [
              0.8888888888888888,
              "#fdca26"
             ],
             [
              1,
              "#f0f921"
             ]
            ],
            "type": "contour"
           }
          ],
          "contourcarpet": [
           {
            "colorbar": {
             "outlinewidth": 0,
             "ticks": ""
            },
            "type": "contourcarpet"
           }
          ],
          "heatmap": [
           {
            "colorbar": {
             "outlinewidth": 0,
             "ticks": ""
            },
            "colorscale": [
             [
              0,
              "#0d0887"
             ],
             [
              0.1111111111111111,
              "#46039f"
             ],
             [
              0.2222222222222222,
              "#7201a8"
             ],
             [
              0.3333333333333333,
              "#9c179e"
             ],
             [
              0.4444444444444444,
              "#bd3786"
             ],
             [
              0.5555555555555556,
              "#d8576b"
             ],
             [
              0.6666666666666666,
              "#ed7953"
             ],
             [
              0.7777777777777778,
              "#fb9f3a"
             ],
             [
              0.8888888888888888,
              "#fdca26"
             ],
             [
              1,
              "#f0f921"
             ]
            ],
            "type": "heatmap"
           }
          ],
          "heatmapgl": [
           {
            "colorbar": {
             "outlinewidth": 0,
             "ticks": ""
            },
            "colorscale": [
             [
              0,
              "#0d0887"
             ],
             [
              0.1111111111111111,
              "#46039f"
             ],
             [
              0.2222222222222222,
              "#7201a8"
             ],
             [
              0.3333333333333333,
              "#9c179e"
             ],
             [
              0.4444444444444444,
              "#bd3786"
             ],
             [
              0.5555555555555556,
              "#d8576b"
             ],
             [
              0.6666666666666666,
              "#ed7953"
             ],
             [
              0.7777777777777778,
              "#fb9f3a"
             ],
             [
              0.8888888888888888,
              "#fdca26"
             ],
             [
              1,
              "#f0f921"
             ]
            ],
            "type": "heatmapgl"
           }
          ],
          "histogram": [
           {
            "marker": {
             "pattern": {
              "fillmode": "overlay",
              "size": 10,
              "solidity": 0.2
             }
            },
            "type": "histogram"
           }
          ],
          "histogram2d": [
           {
            "colorbar": {
             "outlinewidth": 0,
             "ticks": ""
            },
            "colorscale": [
             [
              0,
              "#0d0887"
             ],
             [
              0.1111111111111111,
              "#46039f"
             ],
             [
              0.2222222222222222,
              "#7201a8"
             ],
             [
              0.3333333333333333,
              "#9c179e"
             ],
             [
              0.4444444444444444,
              "#bd3786"
             ],
             [
              0.5555555555555556,
              "#d8576b"
             ],
             [
              0.6666666666666666,
              "#ed7953"
             ],
             [
              0.7777777777777778,
              "#fb9f3a"
             ],
             [
              0.8888888888888888,
              "#fdca26"
             ],
             [
              1,
              "#f0f921"
             ]
            ],
            "type": "histogram2d"
           }
          ],
          "histogram2dcontour": [
           {
            "colorbar": {
             "outlinewidth": 0,
             "ticks": ""
            },
            "colorscale": [
             [
              0,
              "#0d0887"
             ],
             [
              0.1111111111111111,
              "#46039f"
             ],
             [
              0.2222222222222222,
              "#7201a8"
             ],
             [
              0.3333333333333333,
              "#9c179e"
             ],
             [
              0.4444444444444444,
              "#bd3786"
             ],
             [
              0.5555555555555556,
              "#d8576b"
             ],
             [
              0.6666666666666666,
              "#ed7953"
             ],
             [
              0.7777777777777778,
              "#fb9f3a"
             ],
             [
              0.8888888888888888,
              "#fdca26"
             ],
             [
              1,
              "#f0f921"
             ]
            ],
            "type": "histogram2dcontour"
           }
          ],
          "mesh3d": [
           {
            "colorbar": {
             "outlinewidth": 0,
             "ticks": ""
            },
            "type": "mesh3d"
           }
          ],
          "parcoords": [
           {
            "line": {
             "colorbar": {
              "outlinewidth": 0,
              "ticks": ""
             }
            },
            "type": "parcoords"
           }
          ],
          "pie": [
           {
            "automargin": true,
            "type": "pie"
           }
          ],
          "scatter": [
           {
            "fillpattern": {
             "fillmode": "overlay",
             "size": 10,
             "solidity": 0.2
            },
            "type": "scatter"
           }
          ],
          "scatter3d": [
           {
            "line": {
             "colorbar": {
              "outlinewidth": 0,
              "ticks": ""
             }
            },
            "marker": {
             "colorbar": {
              "outlinewidth": 0,
              "ticks": ""
             }
            },
            "type": "scatter3d"
           }
          ],
          "scattercarpet": [
           {
            "marker": {
             "colorbar": {
              "outlinewidth": 0,
              "ticks": ""
             }
            },
            "type": "scattercarpet"
           }
          ],
          "scattergeo": [
           {
            "marker": {
             "colorbar": {
              "outlinewidth": 0,
              "ticks": ""
             }
            },
            "type": "scattergeo"
           }
          ],
          "scattergl": [
           {
            "marker": {
             "colorbar": {
              "outlinewidth": 0,
              "ticks": ""
             }
            },
            "type": "scattergl"
           }
          ],
          "scattermapbox": [
           {
            "marker": {
             "colorbar": {
              "outlinewidth": 0,
              "ticks": ""
             }
            },
            "type": "scattermapbox"
           }
          ],
          "scatterpolar": [
           {
            "marker": {
             "colorbar": {
              "outlinewidth": 0,
              "ticks": ""
             }
            },
            "type": "scatterpolar"
           }
          ],
          "scatterpolargl": [
           {
            "marker": {
             "colorbar": {
              "outlinewidth": 0,
              "ticks": ""
             }
            },
            "type": "scatterpolargl"
           }
          ],
          "scatterternary": [
           {
            "marker": {
             "colorbar": {
              "outlinewidth": 0,
              "ticks": ""
             }
            },
            "type": "scatterternary"
           }
          ],
          "surface": [
           {
            "colorbar": {
             "outlinewidth": 0,
             "ticks": ""
            },
            "colorscale": [
             [
              0,
              "#0d0887"
             ],
             [
              0.1111111111111111,
              "#46039f"
             ],
             [
              0.2222222222222222,
              "#7201a8"
             ],
             [
              0.3333333333333333,
              "#9c179e"
             ],
             [
              0.4444444444444444,
              "#bd3786"
             ],
             [
              0.5555555555555556,
              "#d8576b"
             ],
             [
              0.6666666666666666,
              "#ed7953"
             ],
             [
              0.7777777777777778,
              "#fb9f3a"
             ],
             [
              0.8888888888888888,
              "#fdca26"
             ],
             [
              1,
              "#f0f921"
             ]
            ],
            "type": "surface"
           }
          ],
          "table": [
           {
            "cells": {
             "fill": {
              "color": "#EBF0F8"
             },
             "line": {
              "color": "white"
             }
            },
            "header": {
             "fill": {
              "color": "#C8D4E3"
             },
             "line": {
              "color": "white"
             }
            },
            "type": "table"
           }
          ]
         },
         "layout": {
          "annotationdefaults": {
           "arrowcolor": "#2a3f5f",
           "arrowhead": 0,
           "arrowwidth": 1
          },
          "autotypenumbers": "strict",
          "coloraxis": {
           "colorbar": {
            "outlinewidth": 0,
            "ticks": ""
           }
          },
          "colorscale": {
           "diverging": [
            [
             0,
             "#8e0152"
            ],
            [
             0.1,
             "#c51b7d"
            ],
            [
             0.2,
             "#de77ae"
            ],
            [
             0.3,
             "#f1b6da"
            ],
            [
             0.4,
             "#fde0ef"
            ],
            [
             0.5,
             "#f7f7f7"
            ],
            [
             0.6,
             "#e6f5d0"
            ],
            [
             0.7,
             "#b8e186"
            ],
            [
             0.8,
             "#7fbc41"
            ],
            [
             0.9,
             "#4d9221"
            ],
            [
             1,
             "#276419"
            ]
           ],
           "sequential": [
            [
             0,
             "#0d0887"
            ],
            [
             0.1111111111111111,
             "#46039f"
            ],
            [
             0.2222222222222222,
             "#7201a8"
            ],
            [
             0.3333333333333333,
             "#9c179e"
            ],
            [
             0.4444444444444444,
             "#bd3786"
            ],
            [
             0.5555555555555556,
             "#d8576b"
            ],
            [
             0.6666666666666666,
             "#ed7953"
            ],
            [
             0.7777777777777778,
             "#fb9f3a"
            ],
            [
             0.8888888888888888,
             "#fdca26"
            ],
            [
             1,
             "#f0f921"
            ]
           ],
           "sequentialminus": [
            [
             0,
             "#0d0887"
            ],
            [
             0.1111111111111111,
             "#46039f"
            ],
            [
             0.2222222222222222,
             "#7201a8"
            ],
            [
             0.3333333333333333,
             "#9c179e"
            ],
            [
             0.4444444444444444,
             "#bd3786"
            ],
            [
             0.5555555555555556,
             "#d8576b"
            ],
            [
             0.6666666666666666,
             "#ed7953"
            ],
            [
             0.7777777777777778,
             "#fb9f3a"
            ],
            [
             0.8888888888888888,
             "#fdca26"
            ],
            [
             1,
             "#f0f921"
            ]
           ]
          },
          "colorway": [
           "#636efa",
           "#EF553B",
           "#00cc96",
           "#ab63fa",
           "#FFA15A",
           "#19d3f3",
           "#FF6692",
           "#B6E880",
           "#FF97FF",
           "#FECB52"
          ],
          "font": {
           "color": "#2a3f5f"
          },
          "geo": {
           "bgcolor": "white",
           "lakecolor": "white",
           "landcolor": "#E5ECF6",
           "showlakes": true,
           "showland": true,
           "subunitcolor": "white"
          },
          "hoverlabel": {
           "align": "left"
          },
          "hovermode": "closest",
          "mapbox": {
           "style": "light"
          },
          "paper_bgcolor": "white",
          "plot_bgcolor": "#E5ECF6",
          "polar": {
           "angularaxis": {
            "gridcolor": "white",
            "linecolor": "white",
            "ticks": ""
           },
           "bgcolor": "#E5ECF6",
           "radialaxis": {
            "gridcolor": "white",
            "linecolor": "white",
            "ticks": ""
           }
          },
          "scene": {
           "xaxis": {
            "backgroundcolor": "#E5ECF6",
            "gridcolor": "white",
            "gridwidth": 2,
            "linecolor": "white",
            "showbackground": true,
            "ticks": "",
            "zerolinecolor": "white"
           },
           "yaxis": {
            "backgroundcolor": "#E5ECF6",
            "gridcolor": "white",
            "gridwidth": 2,
            "linecolor": "white",
            "showbackground": true,
            "ticks": "",
            "zerolinecolor": "white"
           },
           "zaxis": {
            "backgroundcolor": "#E5ECF6",
            "gridcolor": "white",
            "gridwidth": 2,
            "linecolor": "white",
            "showbackground": true,
            "ticks": "",
            "zerolinecolor": "white"
           }
          },
          "shapedefaults": {
           "line": {
            "color": "#2a3f5f"
           }
          },
          "ternary": {
           "aaxis": {
            "gridcolor": "white",
            "linecolor": "white",
            "ticks": ""
           },
           "baxis": {
            "gridcolor": "white",
            "linecolor": "white",
            "ticks": ""
           },
           "bgcolor": "#E5ECF6",
           "caxis": {
            "gridcolor": "white",
            "linecolor": "white",
            "ticks": ""
           }
          },
          "title": {
           "x": 0.05
          },
          "xaxis": {
           "automargin": true,
           "gridcolor": "white",
           "linecolor": "white",
           "ticks": "",
           "title": {
            "standoff": 15
           },
           "zerolinecolor": "white",
           "zerolinewidth": 2
          },
          "yaxis": {
           "automargin": true,
           "gridcolor": "white",
           "linecolor": "white",
           "ticks": "",
           "title": {
            "standoff": 15
           },
           "zerolinecolor": "white",
           "zerolinewidth": 2
          }
         }
        },
        "title": {
         "font": {
          "color": "#D9D9D9"
         },
         "text": "Silhouette"
        },
        "width": 900,
        "xaxis": {
         "gridcolor": "#434343",
         "showgrid": true,
         "tickfont": {
          "color": "#C2C2C2"
         },
         "title": {
          "font": {
           "color": "#D9D9D9"
          },
          "text": "Número de clusters"
         },
         "zerolinecolor": "#666570"
        },
        "yaxis": {
         "gridcolor": "#434343",
         "showgrid": true,
         "tickfont": {
          "color": "#C2C2C2"
         },
         "title": {
          "font": {
           "color": "#D9D9D9"
          },
          "text": "Score"
         },
         "zerolinecolor": "#666570"
        }
       }
      },
      "text/html": [
       "<div>                            <div id=\"10c9ed0b-2ed6-4fa6-9bd5-11f8ade2ddaa\" class=\"plotly-graph-div\" style=\"height:400px; width:900px;\"></div>            <script type=\"text/javascript\">                require([\"plotly\"], function(Plotly) {                    window.PLOTLYENV=window.PLOTLYENV || {};\n",
       "                    window.PLOTLYENV.BASE_URL='https://plot.ly';                                    if (document.getElementById(\"10c9ed0b-2ed6-4fa6-9bd5-11f8ade2ddaa\")) {                    Plotly.newPlot(                        \"10c9ed0b-2ed6-4fa6-9bd5-11f8ade2ddaa\",                        [{\"line\":{\"color\":\"rgba(255, 153, 51, 1.0)\",\"dash\":\"solid\",\"shape\":\"linear\",\"width\":1.3},\"mode\":\"lines\",\"name\":\"0\",\"text\":\"\",\"x\":[8,12,16,20,24,28,32,36,40,44,48,52,56,60,64,68,72],\"y\":[0.20381146614108422,0.2128538950683173,0.18601978650022577,0.17105495900782758,0.17913353348935537,0.18407403574626038,0.16680364906015702,0.17649516338799834,0.15325916624862765,0.15620395284985283,0.14171569090840203,0.13653016868566187,0.13808106173437046,0.12984038015539257,0.11997062036222608,0.1294959711472989,0.10657140628394358],\"type\":\"scatter\"}],                        {\"height\":400,\"legend\":{\"bgcolor\":\"#151516\",\"font\":{\"color\":\"#D9D9D9\"}},\"paper_bgcolor\":\"#151516\",\"plot_bgcolor\":\"#151516\",\"template\":{\"data\":{\"barpolar\":[{\"marker\":{\"line\":{\"color\":\"#E5ECF6\",\"width\":0.5},\"pattern\":{\"fillmode\":\"overlay\",\"size\":10,\"solidity\":0.2}},\"type\":\"barpolar\"}],\"bar\":[{\"error_x\":{\"color\":\"#2a3f5f\"},\"error_y\":{\"color\":\"#2a3f5f\"},\"marker\":{\"line\":{\"color\":\"#E5ECF6\",\"width\":0.5},\"pattern\":{\"fillmode\":\"overlay\",\"size\":10,\"solidity\":0.2}},\"type\":\"bar\"}],\"carpet\":[{\"aaxis\":{\"endlinecolor\":\"#2a3f5f\",\"gridcolor\":\"white\",\"linecolor\":\"white\",\"minorgridcolor\":\"white\",\"startlinecolor\":\"#2a3f5f\"},\"baxis\":{\"endlinecolor\":\"#2a3f5f\",\"gridcolor\":\"white\",\"linecolor\":\"white\",\"minorgridcolor\":\"white\",\"startlinecolor\":\"#2a3f5f\"},\"type\":\"carpet\"}],\"choropleth\":[{\"colorbar\":{\"outlinewidth\":0,\"ticks\":\"\"},\"type\":\"choropleth\"}],\"contourcarpet\":[{\"colorbar\":{\"outlinewidth\":0,\"ticks\":\"\"},\"type\":\"contourcarpet\"}],\"contour\":[{\"colorbar\":{\"outlinewidth\":0,\"ticks\":\"\"},\"colorscale\":[[0.0,\"#0d0887\"],[0.1111111111111111,\"#46039f\"],[0.2222222222222222,\"#7201a8\"],[0.3333333333333333,\"#9c179e\"],[0.4444444444444444,\"#bd3786\"],[0.5555555555555556,\"#d8576b\"],[0.6666666666666666,\"#ed7953\"],[0.7777777777777778,\"#fb9f3a\"],[0.8888888888888888,\"#fdca26\"],[1.0,\"#f0f921\"]],\"type\":\"contour\"}],\"heatmapgl\":[{\"colorbar\":{\"outlinewidth\":0,\"ticks\":\"\"},\"colorscale\":[[0.0,\"#0d0887\"],[0.1111111111111111,\"#46039f\"],[0.2222222222222222,\"#7201a8\"],[0.3333333333333333,\"#9c179e\"],[0.4444444444444444,\"#bd3786\"],[0.5555555555555556,\"#d8576b\"],[0.6666666666666666,\"#ed7953\"],[0.7777777777777778,\"#fb9f3a\"],[0.8888888888888888,\"#fdca26\"],[1.0,\"#f0f921\"]],\"type\":\"heatmapgl\"}],\"heatmap\":[{\"colorbar\":{\"outlinewidth\":0,\"ticks\":\"\"},\"colorscale\":[[0.0,\"#0d0887\"],[0.1111111111111111,\"#46039f\"],[0.2222222222222222,\"#7201a8\"],[0.3333333333333333,\"#9c179e\"],[0.4444444444444444,\"#bd3786\"],[0.5555555555555556,\"#d8576b\"],[0.6666666666666666,\"#ed7953\"],[0.7777777777777778,\"#fb9f3a\"],[0.8888888888888888,\"#fdca26\"],[1.0,\"#f0f921\"]],\"type\":\"heatmap\"}],\"histogram2dcontour\":[{\"colorbar\":{\"outlinewidth\":0,\"ticks\":\"\"},\"colorscale\":[[0.0,\"#0d0887\"],[0.1111111111111111,\"#46039f\"],[0.2222222222222222,\"#7201a8\"],[0.3333333333333333,\"#9c179e\"],[0.4444444444444444,\"#bd3786\"],[0.5555555555555556,\"#d8576b\"],[0.6666666666666666,\"#ed7953\"],[0.7777777777777778,\"#fb9f3a\"],[0.8888888888888888,\"#fdca26\"],[1.0,\"#f0f921\"]],\"type\":\"histogram2dcontour\"}],\"histogram2d\":[{\"colorbar\":{\"outlinewidth\":0,\"ticks\":\"\"},\"colorscale\":[[0.0,\"#0d0887\"],[0.1111111111111111,\"#46039f\"],[0.2222222222222222,\"#7201a8\"],[0.3333333333333333,\"#9c179e\"],[0.4444444444444444,\"#bd3786\"],[0.5555555555555556,\"#d8576b\"],[0.6666666666666666,\"#ed7953\"],[0.7777777777777778,\"#fb9f3a\"],[0.8888888888888888,\"#fdca26\"],[1.0,\"#f0f921\"]],\"type\":\"histogram2d\"}],\"histogram\":[{\"marker\":{\"pattern\":{\"fillmode\":\"overlay\",\"size\":10,\"solidity\":0.2}},\"type\":\"histogram\"}],\"mesh3d\":[{\"colorbar\":{\"outlinewidth\":0,\"ticks\":\"\"},\"type\":\"mesh3d\"}],\"parcoords\":[{\"line\":{\"colorbar\":{\"outlinewidth\":0,\"ticks\":\"\"}},\"type\":\"parcoords\"}],\"pie\":[{\"automargin\":true,\"type\":\"pie\"}],\"scatter3d\":[{\"line\":{\"colorbar\":{\"outlinewidth\":0,\"ticks\":\"\"}},\"marker\":{\"colorbar\":{\"outlinewidth\":0,\"ticks\":\"\"}},\"type\":\"scatter3d\"}],\"scattercarpet\":[{\"marker\":{\"colorbar\":{\"outlinewidth\":0,\"ticks\":\"\"}},\"type\":\"scattercarpet\"}],\"scattergeo\":[{\"marker\":{\"colorbar\":{\"outlinewidth\":0,\"ticks\":\"\"}},\"type\":\"scattergeo\"}],\"scattergl\":[{\"marker\":{\"colorbar\":{\"outlinewidth\":0,\"ticks\":\"\"}},\"type\":\"scattergl\"}],\"scattermapbox\":[{\"marker\":{\"colorbar\":{\"outlinewidth\":0,\"ticks\":\"\"}},\"type\":\"scattermapbox\"}],\"scatterpolargl\":[{\"marker\":{\"colorbar\":{\"outlinewidth\":0,\"ticks\":\"\"}},\"type\":\"scatterpolargl\"}],\"scatterpolar\":[{\"marker\":{\"colorbar\":{\"outlinewidth\":0,\"ticks\":\"\"}},\"type\":\"scatterpolar\"}],\"scatter\":[{\"fillpattern\":{\"fillmode\":\"overlay\",\"size\":10,\"solidity\":0.2},\"type\":\"scatter\"}],\"scatterternary\":[{\"marker\":{\"colorbar\":{\"outlinewidth\":0,\"ticks\":\"\"}},\"type\":\"scatterternary\"}],\"surface\":[{\"colorbar\":{\"outlinewidth\":0,\"ticks\":\"\"},\"colorscale\":[[0.0,\"#0d0887\"],[0.1111111111111111,\"#46039f\"],[0.2222222222222222,\"#7201a8\"],[0.3333333333333333,\"#9c179e\"],[0.4444444444444444,\"#bd3786\"],[0.5555555555555556,\"#d8576b\"],[0.6666666666666666,\"#ed7953\"],[0.7777777777777778,\"#fb9f3a\"],[0.8888888888888888,\"#fdca26\"],[1.0,\"#f0f921\"]],\"type\":\"surface\"}],\"table\":[{\"cells\":{\"fill\":{\"color\":\"#EBF0F8\"},\"line\":{\"color\":\"white\"}},\"header\":{\"fill\":{\"color\":\"#C8D4E3\"},\"line\":{\"color\":\"white\"}},\"type\":\"table\"}]},\"layout\":{\"annotationdefaults\":{\"arrowcolor\":\"#2a3f5f\",\"arrowhead\":0,\"arrowwidth\":1},\"autotypenumbers\":\"strict\",\"coloraxis\":{\"colorbar\":{\"outlinewidth\":0,\"ticks\":\"\"}},\"colorscale\":{\"diverging\":[[0,\"#8e0152\"],[0.1,\"#c51b7d\"],[0.2,\"#de77ae\"],[0.3,\"#f1b6da\"],[0.4,\"#fde0ef\"],[0.5,\"#f7f7f7\"],[0.6,\"#e6f5d0\"],[0.7,\"#b8e186\"],[0.8,\"#7fbc41\"],[0.9,\"#4d9221\"],[1,\"#276419\"]],\"sequential\":[[0.0,\"#0d0887\"],[0.1111111111111111,\"#46039f\"],[0.2222222222222222,\"#7201a8\"],[0.3333333333333333,\"#9c179e\"],[0.4444444444444444,\"#bd3786\"],[0.5555555555555556,\"#d8576b\"],[0.6666666666666666,\"#ed7953\"],[0.7777777777777778,\"#fb9f3a\"],[0.8888888888888888,\"#fdca26\"],[1.0,\"#f0f921\"]],\"sequentialminus\":[[0.0,\"#0d0887\"],[0.1111111111111111,\"#46039f\"],[0.2222222222222222,\"#7201a8\"],[0.3333333333333333,\"#9c179e\"],[0.4444444444444444,\"#bd3786\"],[0.5555555555555556,\"#d8576b\"],[0.6666666666666666,\"#ed7953\"],[0.7777777777777778,\"#fb9f3a\"],[0.8888888888888888,\"#fdca26\"],[1.0,\"#f0f921\"]]},\"colorway\":[\"#636efa\",\"#EF553B\",\"#00cc96\",\"#ab63fa\",\"#FFA15A\",\"#19d3f3\",\"#FF6692\",\"#B6E880\",\"#FF97FF\",\"#FECB52\"],\"font\":{\"color\":\"#2a3f5f\"},\"geo\":{\"bgcolor\":\"white\",\"lakecolor\":\"white\",\"landcolor\":\"#E5ECF6\",\"showlakes\":true,\"showland\":true,\"subunitcolor\":\"white\"},\"hoverlabel\":{\"align\":\"left\"},\"hovermode\":\"closest\",\"mapbox\":{\"style\":\"light\"},\"paper_bgcolor\":\"white\",\"plot_bgcolor\":\"#E5ECF6\",\"polar\":{\"angularaxis\":{\"gridcolor\":\"white\",\"linecolor\":\"white\",\"ticks\":\"\"},\"bgcolor\":\"#E5ECF6\",\"radialaxis\":{\"gridcolor\":\"white\",\"linecolor\":\"white\",\"ticks\":\"\"}},\"scene\":{\"xaxis\":{\"backgroundcolor\":\"#E5ECF6\",\"gridcolor\":\"white\",\"gridwidth\":2,\"linecolor\":\"white\",\"showbackground\":true,\"ticks\":\"\",\"zerolinecolor\":\"white\"},\"yaxis\":{\"backgroundcolor\":\"#E5ECF6\",\"gridcolor\":\"white\",\"gridwidth\":2,\"linecolor\":\"white\",\"showbackground\":true,\"ticks\":\"\",\"zerolinecolor\":\"white\"},\"zaxis\":{\"backgroundcolor\":\"#E5ECF6\",\"gridcolor\":\"white\",\"gridwidth\":2,\"linecolor\":\"white\",\"showbackground\":true,\"ticks\":\"\",\"zerolinecolor\":\"white\"}},\"shapedefaults\":{\"line\":{\"color\":\"#2a3f5f\"}},\"ternary\":{\"aaxis\":{\"gridcolor\":\"white\",\"linecolor\":\"white\",\"ticks\":\"\"},\"baxis\":{\"gridcolor\":\"white\",\"linecolor\":\"white\",\"ticks\":\"\"},\"bgcolor\":\"#E5ECF6\",\"caxis\":{\"gridcolor\":\"white\",\"linecolor\":\"white\",\"ticks\":\"\"}},\"title\":{\"x\":0.05},\"xaxis\":{\"automargin\":true,\"gridcolor\":\"white\",\"linecolor\":\"white\",\"ticks\":\"\",\"title\":{\"standoff\":15},\"zerolinecolor\":\"white\",\"zerolinewidth\":2},\"yaxis\":{\"automargin\":true,\"gridcolor\":\"white\",\"linecolor\":\"white\",\"ticks\":\"\",\"title\":{\"standoff\":15},\"zerolinecolor\":\"white\",\"zerolinewidth\":2}}},\"title\":{\"font\":{\"color\":\"#D9D9D9\"},\"text\":\"Silhouette\"},\"width\":900,\"xaxis\":{\"gridcolor\":\"#434343\",\"showgrid\":true,\"tickfont\":{\"color\":\"#C2C2C2\"},\"title\":{\"font\":{\"color\":\"#D9D9D9\"},\"text\":\"N\\u00famero de clusters\"},\"zerolinecolor\":\"#666570\"},\"yaxis\":{\"gridcolor\":\"#434343\",\"showgrid\":true,\"tickfont\":{\"color\":\"#C2C2C2\"},\"title\":{\"font\":{\"color\":\"#D9D9D9\"},\"text\":\"Score\"},\"zerolinecolor\":\"#666570\"}},                        {\"showLink\": true, \"linkText\": \"Export to plot.ly\", \"plotlyServerURL\": \"https://plot.ly\", \"responsive\": true}                    ).then(function(){\n",
       "                            \n",
       "var gd = document.getElementById('10c9ed0b-2ed6-4fa6-9bd5-11f8ade2ddaa');\n",
       "var x = new MutationObserver(function (mutations, observer) {{\n",
       "        var display = window.getComputedStyle(gd).display;\n",
       "        if (!display || display === 'none') {{\n",
       "            console.log([gd, 'removed!']);\n",
       "            Plotly.purge(gd);\n",
       "            observer.disconnect();\n",
       "        }}\n",
       "}});\n",
       "\n",
       "// Listen for the removal of the full notebook cells\n",
       "var notebookContainer = gd.closest('#notebook-container');\n",
       "if (notebookContainer) {{\n",
       "    x.observe(notebookContainer, {childList: true});\n",
       "}}\n",
       "\n",
       "// Listen for the clearing of the current output cell\n",
       "var outputEl = gd.closest('.output');\n",
       "if (outputEl) {{\n",
       "    x.observe(outputEl, {childList: true});\n",
       "}}\n",
       "\n",
       "                        })                };                });            </script>        </div>"
      ]
     },
     "metadata": {},
     "output_type": "display_data"
    }
   ],
   "source": [
    "df_silhouette = pd.DataFrame(score, k)\n",
    "df_silhouette.iplot(dimensions=(900, 400), xTitle='Número de clusters', yTitle='Score', title='Silhouette') # Mostrar gráfico"
   ]
  },
  {
   "cell_type": "markdown",
   "metadata": {},
   "source": [
    "Como se muestra en la gráfica de silueta, mi elección es apropiada ya que se ajusta mejor a los centroides."
   ]
  },
  {
   "cell_type": "markdown",
   "metadata": {},
   "source": [
    "### **5. Aplicar el método K means a los datos**"
   ]
  },
  {
   "cell_type": "code",
   "execution_count": 20,
   "metadata": {},
   "outputs": [
    {
     "data": {
      "text/plain": [
       "KMeans(n_clusters=12)"
      ]
     },
     "execution_count": 20,
     "metadata": {},
     "output_type": "execute_result"
    }
   ],
   "source": [
    "clustering = KMeans(n_clusters=12) # entrenar con el número de grupos\n",
    "clustering.fit(matrix) # Ajustar clusters a los datos"
   ]
  },
  {
   "cell_type": "code",
   "execution_count": 8,
   "metadata": {},
   "outputs": [],
   "source": [
    "df_labels = pd.DataFrame(clustering.labels_) # Obtener etiquetas asignadas a los genomas"
   ]
  },
  {
   "cell_type": "code",
   "execution_count": 9,
   "metadata": {},
   "outputs": [],
   "source": [
    "df_labels.to_csv('clustering_labels.txt', header=None, index=False) # Generar archivo txt con los valores de las etiquetas"
   ]
  },
  {
   "cell_type": "markdown",
   "metadata": {},
   "source": [
    "### **6. Crear Json con los datos**"
   ]
  },
  {
   "cell_type": "markdown",
   "metadata": {},
   "source": [
    "Para construir el archivo .json hicé uso de los dataFrames para simplificar su construcción mediante diccionarios de datos."
   ]
  },
  {
   "cell_type": "markdown",
   "metadata": {},
   "source": [
    "#### 6.1 Generar arreglo de las etiquetas ordenadas"
   ]
  },
  {
   "cell_type": "code",
   "execution_count": 29,
   "metadata": {},
   "outputs": [],
   "source": [
    "df_group = pd.read_csv('AI_files/groupOrderFamilySlop.txt', header=None) # Lectura del archivo con las familias ordenados de genomas"
   ]
  },
  {
   "cell_type": "code",
   "execution_count": 30,
   "metadata": {},
   "outputs": [],
   "source": [
    "df_n_genomes = df_group.pop(2) # Extraer el número de genomas que componen a cada familia"
   ]
  },
  {
   "cell_type": "code",
   "execution_count": 31,
   "metadata": {},
   "outputs": [],
   "source": [
    "list_order = []\n",
    "for n_genomes in range(len(df_n_genomes)):\n",
    "    for i in range(df_n_genomes[n_genomes]):\n",
    "        list_order.append(n_genomes)  # Añadir etiqueta de grupo ordenado"
   ]
  },
  {
   "cell_type": "markdown",
   "metadata": {},
   "source": [
    "#### 6.2 Crear links de los datos"
   ]
  },
  {
   "cell_type": "code",
   "execution_count": 32,
   "metadata": {},
   "outputs": [],
   "source": [
    "df_labels = pd.read_csv('clustering_labels.txt', header=None) # Lectura de las etiquetas de agrupamiento de Kmeans"
   ]
  },
  {
   "cell_type": "code",
   "execution_count": 33,
   "metadata": {},
   "outputs": [],
   "source": [
    "df_links = pd.DataFrame({'source': list_order[i], 'target': 72 + int(df_labels.transpose()[i])} for i in range(3222)) # Crear dataFrame con los links"
   ]
  },
  {
   "cell_type": "markdown",
   "metadata": {},
   "source": [
    "---\n",
    "**Importante:** \n",
    "La razón por la que en la gráfica no se veían todos los links de una familia es que las líneas que los unen se superponen, para arreglarlo, he añadido estos bloques de código para aumentar el grosor de las líneas que unen los nodos."
   ]
  },
  {
   "cell_type": "code",
   "execution_count": 34,
   "metadata": {},
   "outputs": [],
   "source": [
    "df_duplicated_count = df_links.value_counts(sort=False) # Obtener cuenta de cada tupla repetida\n",
    "df_links = df_links.drop_duplicates() # Eliminar duplicados"
   ]
  },
  {
   "cell_type": "code",
   "execution_count": 35,
   "metadata": {},
   "outputs": [],
   "source": [
    "df_links.reset_index(drop=True, inplace=True) # Resetear index del dataFrame de links\n",
    "\n",
    "duplicate_count = np.asarray(df_duplicated_count.values) # Convertir recuento de valores repetidos a un array\n",
    "df_links = pd.concat([df_links, pd.DataFrame({'value': duplicate_count})], axis=1) # Concatenar columna a df_links"
   ]
  },
  {
   "cell_type": "markdown",
   "metadata": {},
   "source": [
    "---"
   ]
  },
  {
   "cell_type": "markdown",
   "metadata": {},
   "source": [
    "#### 6.3 Crear nodos de los datos"
   ]
  },
  {
   "cell_type": "code",
   "execution_count": 37,
   "metadata": {},
   "outputs": [],
   "source": [
    "df_rename = pd.concat([df_group, pd.DataFrame(np.arange(72), columns=['group'])], axis=1) # Asignar columna con el no.grupo al dataFrame con las familias ordenadas"
   ]
  },
  {
   "cell_type": "code",
   "execution_count": 38,
   "metadata": {},
   "outputs": [],
   "source": [
    "df_rename.rename(columns={0: 'order', 1: 'name'}, inplace=True) # Renombrar columnas"
   ]
  },
  {
   "cell_type": "code",
   "execution_count": 39,
   "metadata": {},
   "outputs": [],
   "source": [
    "df_clusters = pd.DataFrame({'name': 'clusters_' + str(i), 'group': 71 + i} for i in range(1, 13)) # Crear dataFrame con los clusters y sus no.grupo"
   ]
  },
  {
   "cell_type": "markdown",
   "metadata": {},
   "source": [
    "#### 6.4 Escribir json"
   ]
  },
  {
   "cell_type": "code",
   "execution_count": 40,
   "metadata": {},
   "outputs": [],
   "source": [
    "# Construir diccionario de datos con los nodos y linnks\n",
    "data_dict = {'nodes': df_rename.to_dict(orient='records') + df_clusters.to_dict(orient='records'), 'links':df_links.to_dict(orient='records')}"
   ]
  },
  {
   "cell_type": "code",
   "execution_count": 41,
   "metadata": {},
   "outputs": [],
   "source": [
    "with open('D3JsomSims.json', 'w') as file:\n",
    "    json.dump(data_dict, file, indent=4) # Convertir diccionario en un archivo json"
   ]
  },
  {
   "cell_type": "markdown",
   "metadata": {},
   "source": [
    "### **7. Graficar Resultado**"
   ]
  },
  {
   "cell_type": "markdown",
   "metadata": {},
   "source": [
    "Debido a mi deseo de utilizar una gráfica interactiva y la carencia de bibliotecas con gráficos utiles para esta situación, opté por utilizar la biblioteca D3.js para crear el gráfico e incrustarlo en mi NoteBook."
   ]
  },
  {
   "cell_type": "markdown",
   "metadata": {},
   "source": [
    "#### 7.1 Consultar datos"
   ]
  },
  {
   "cell_type": "code",
   "execution_count": 42,
   "metadata": {},
   "outputs": [],
   "source": [
    "with open('D3JsomSims.json') as file:\n",
    "    data = json.load(file)  # Consultar datos del archivo json"
   ]
  },
  {
   "cell_type": "markdown",
   "metadata": {},
   "source": [
    "#### 7.2 Incrustar js de la gráfica"
   ]
  },
  {
   "cell_type": "markdown",
   "metadata": {},
   "source": [
    "Seleccioné un arco-diagrama porque los arcos de cada nodo, son utiles para analizar las conexiones entre estos. Además, me pareció más bonita la presentación de los datos con esta gráfica."
   ]
  },
  {
   "cell_type": "markdown",
   "metadata": {},
   "source": [
    "La platinlla del arco diagrama fué obtenido de la gelería de gráficos de D3.js: https://d3-graph-gallery.com/graph/arc_template.html. Sin embargo, modifiqué algunas características de esté y lo adapté para utilizar los datos de mi json."
   ]
  },
  {
   "cell_type": "code",
   "execution_count": 43,
   "metadata": {},
   "outputs": [],
   "source": [
    "js_text_template = Template('''\n",
    "// set the dimensions and margins of the graph\n",
    "  const margin = { top: 0, right: 30, bottom: 150, left: 60 },\n",
    "    width = 1800 - margin.left - margin.right,\n",
    "    height = 1000 - margin.top - margin.bottom;\n",
    "\n",
    "  // append the svg object to the body of the page\n",
    "  const svg = d3\n",
    "    .select(\"#my_dataviz\")\n",
    "    .append(\"svg\")\n",
    "    .attr(\"viewBox\", [0, 0, width + 90, height + 80])\n",
    "    .attr(\"width\", width + margin.left + margin.right)\n",
    "    .attr(\"height\", height + margin.top + margin.bottom)\n",
    "    .append(\"g\")\n",
    "    .attr(\"transform\", \"translate(\" + margin.left + \",\" + margin.top + \")\");\n",
    "\n",
    "  // Read dummy data\n",
    "  let data = $python_data;\n",
    "  // List of node names\n",
    "  const allNodes = data.nodes.map((d) => d.name);\n",
    "\n",
    "  // List of groups\n",
    "  let allGroups = data.nodes.map((d) => d.order);\n",
    "  allGroups = [...new Set(allGroups)];\n",
    "\n",
    "  // A color scale for groups:\n",
    "  const color = d3.scaleOrdinal().domain(allGroups).range(d3.schemeSet3);\n",
    "\n",
    "  // A linear scale for node size\n",
    "  const size = d3.scaleLinear().domain([1, 10]).range([0.5, 8]);\n",
    "\n",
    "  // A linear scale to position the nodes on the X axis\n",
    "  const x = d3.scalePoint().range([0, width]).domain(allNodes);\n",
    "\n",
    "  // In my input data, links are provided between nodes -id-, NOT between node names.\n",
    "  // So I have to do a link between this id and the name\n",
    "  const idToNode = {};\n",
    "  data.nodes.forEach(function (n) {\n",
    "    idToNode[n.group] = n;\n",
    "  });\n",
    "\n",
    "  // Add the links\n",
    "  const links = svg\n",
    "    .selectAll(\"mylinks\")\n",
    "    .data(data.links)\n",
    "    .join(\"path\")\n",
    "    .attr(\"d\", (d) => {\n",
    "      start = x(idToNode[d.source].name); // X position of start node on the X axis\n",
    "      end = x(idToNode[d.target].name); // X position of end node\n",
    "      return [\n",
    "        \"M\",\n",
    "        start,\n",
    "        height - 30, // the arc starts at the coordinate x=start, y=height-30 (where the starting node is)\n",
    "        \"A\", // This means we're gonna build an elliptical arc\n",
    "        (start - end) / 2,\n",
    "        \",\", // Next 2 lines are the coordinates of the inflexion point. Height of this point is proportional with start - end distance\n",
    "        (start - end) / 2,\n",
    "        0,\n",
    "        0,\n",
    "        \",\",\n",
    "        start < end ? 1 : 0,\n",
    "        end,\n",
    "        \",\",\n",
    "        height - 30,\n",
    "      ] // We always want the arc on top. So if end is before start, putting 0 here turn the arc upside down.\n",
    "        .join(\" \");\n",
    "    })\n",
    "    .style(\"fill\", \"none\")\n",
    "    .style(\"stroke-opacity\", 0.8)\n",
    "    .attr(\"stroke\", \"grey\")\n",
    "    .style(\"stroke-width\", (d) => { return d.value/1.8});\n",
    "\n",
    "  // Add the circle for the nodes\n",
    "  const nodes = svg\n",
    "    .selectAll(\"mynodes\")\n",
    "    .data(\n",
    "      data.nodes.sort((a, b) => {\n",
    "        +b.n - +a.n;\n",
    "      })\n",
    "    )\n",
    "    .join(\"circle\")\n",
    "    .attr(\"cx\", (d) => x(d.name))\n",
    "    .attr(\"cy\", height - 30)\n",
    "    .attr(\"r\", (d) => 8)\n",
    "    .style(\"fill\", (d) => color(d.group))\n",
    "    .attr(\"stroke\", \"white\");\n",
    "\n",
    "  // And give them a label\n",
    "  const labels = svg\n",
    "    .selectAll(\"mylabels\")\n",
    "    .data(data.nodes)\n",
    "    .join(\"text\")\n",
    "    .attr(\"x\", 0)\n",
    "    .attr(\"y\", 0)\n",
    "    .text((d) => d.name)\n",
    "    .style(\"text-anchor\", \"end\")\n",
    "    .attr(\n",
    "      \"transform\",\n",
    "      (d) => \"translate(\" + (x(d.name)) + \",\" + (height-15) + \")rotate(-90)\"\n",
    "    )\n",
    "    .style(\"font-size\", 10);\n",
    "  // Add the highlighting functionality\n",
    "  nodes\n",
    "    .on(\"mouseover\", function (event, d) {\n",
    "      // Highlight the nodes: every node is green except of him\n",
    "      nodes.style(\"opacity\", 0.2);\n",
    "      d3.select(this).style(\"opacity\", 1);\n",
    "      // Highlight the connections\n",
    "      links\n",
    "        .style(\"stroke\", (a) =>\n",
    "          a.source === d.group || a.target === d.group ? color(d.order) : \"#b8b8b8\"\n",
    "        )\n",
    "        .style(\"stroke-opacity\", (a) =>\n",
    "          a.source === d.group || a.target === d.group ? 1 : 0.2\n",
    "        )\n",
    "        .style(\"stroke-width\", (a) =>\n",
    "          a.source === d.group || a.target === d.group ? (d) => { return d.value/1.8} : 1\n",
    "        );\n",
    "      labels.style(\"font-size\", (b) => (b.name === d.name ? 11 : 8));\n",
    "    })\n",
    "    .on(\"mouseout\", (d) => {\n",
    "      nodes.style(\"opacity\", 1);\n",
    "      links\n",
    "        .style(\"stroke\", \"grey\")\n",
    "        .style(\"stroke-opacity\", 0.8)\n",
    "        .style(\"stroke-width\", (d) => { return d.value/1.8});\n",
    "      labels.style(\"font-size\", 10);\n",
    "    });\n",
    "//});\n",
    "''')"
   ]
  },
  {
   "cell_type": "code",
   "execution_count": 44,
   "metadata": {},
   "outputs": [],
   "source": [
    "html_template = Template('''\n",
    "<!DOCTYPE html>\n",
    "<meta charset=\"utf-8\" />\n",
    "\n",
    "<!-- Cargar libreria d3.js -->\n",
    "<script src=\"https://d3js.org/d3.v6.js\"></script>\n",
    "\n",
    "<!-- Crear div donde se mostrará la gráfica -->\n",
    "<div id=\"my_dataviz\"></div>\n",
    "\n",
    "<script> $js_text </script>\n",
    "''')"
   ]
  },
  {
   "cell_type": "code",
   "execution_count": 45,
   "metadata": {},
   "outputs": [
    {
     "data": {
      "text/html": [
       "\n",
       "<!DOCTYPE html>\n",
       "<meta charset=\"utf-8\" />\n",
       "\n",
       "<!-- Cargar libreria d3.js -->\n",
       "<script src=\"https://d3js.org/d3.v6.js\"></script>\n",
       "\n",
       "<!-- Crear div donde se mostrará la gráfica -->\n",
       "<div id=\"my_dataviz\"></div>\n",
       "\n",
       "<script> \n",
       "// set the dimensions and margins of the graph\n",
       "  const margin = { top: 0, right: 30, bottom: 150, left: 60 },\n",
       "    width = 1800 - margin.left - margin.right,\n",
       "    height = 1000 - margin.top - margin.bottom;\n",
       "\n",
       "  // append the svg object to the body of the page\n",
       "  const svg = d3\n",
       "    .select(\"#my_dataviz\")\n",
       "    .append(\"svg\")\n",
       "    .attr(\"viewBox\", [0, 0, width + 90, height + 80])\n",
       "    .attr(\"width\", width + margin.left + margin.right)\n",
       "    .attr(\"height\", height + margin.top + margin.bottom)\n",
       "    .append(\"g\")\n",
       "    .attr(\"transform\", \"translate(\" + margin.left + \",\" + margin.top + \")\");\n",
       "\n",
       "  // Read dummy data\n",
       "  let data = {\"nodes\": [{\"order\": \"Actinobacteria\", \"name\": \"Bifidobacteriales\", \"group\": 0}, {\"order\": \"Actinobacteria\", \"name\": \"Micrococcales\", \"group\": 1}, {\"order\": \"Actinobacteria\", \"name\": \"Streptomycetales\", \"group\": 2}, {\"order\": \"Actinobacteria\", \"name\": \"Micromonosporales\", \"group\": 3}, {\"order\": \"Actinobacteria\", \"name\": \"Pseudonocardiales\", \"group\": 4}, {\"order\": \"Actinobacteria\", \"name\": \"Propionibacteriales\", \"group\": 5}, {\"order\": \"Actinobacteria\", \"name\": \"Actinomycetales\", \"group\": 6}, {\"order\": \"Aeromonadales\", \"name\": \"Aeromonadaceae\", \"group\": 7}, {\"order\": \"Alteromonadales\", \"name\": \"Pseudoalteromonadaceae\", \"group\": 8}, {\"order\": \"Alteromonadales\", \"name\": \"Alteromonadaceae\", \"group\": 9}, {\"order\": \"Alteromonadales\", \"name\": \"Shewanellaceae\", \"group\": 10}, {\"order\": \"Aquificales\", \"name\": \"Aquificaceae\", \"group\": 11}, {\"order\": \"Bacteroidetes\", \"name\": \"Flavobacteriia\", \"group\": 12}, {\"order\": \"Bacteroidetes\", \"name\": \"Bacteroidia\", \"group\": 13}, {\"order\": \"Bacteroidetes\", \"name\": \"Cytophagia\", \"group\": 14}, {\"order\": \"Bacteroidetes\", \"name\": \"Sphingobacteriia\", \"group\": 15}, {\"order\": \"Burkholderiales\", \"name\": \"Comamonadaceae\", \"group\": 16}, {\"order\": \"Burkholderiales\", \"name\": \"unclassified Burkholderiales\", \"group\": 17}, {\"order\": \"Burkholderiales\", \"name\": \"Oxalobacteraceae\", \"group\": 18}, {\"order\": \"Caulobacterales\", \"name\": \"Caulobacteraceae\", \"group\": 19}, {\"order\": \"Chlamydiia\", \"name\": \"Chlamydiales\", \"group\": 20}, {\"order\": \"Chlorobi\", \"name\": \"Chlorobia\", \"group\": 21}, {\"order\": \"Chromatiales\", \"name\": \"Ectothiorhodospiraceae\", \"group\": 22}, {\"order\": \"Clostridia\", \"name\": \"Clostridiales\", \"group\": 23}, {\"order\": \"Clostridia\", \"name\": \"Thermoanaerobacterales\", \"group\": 24}, {\"order\": \"Cyanobacteria\", \"name\": \"Oscillatoriophycideae\", \"group\": 25}, {\"order\": \"Cyanobacteria\", \"name\": \"Synechococcales\", \"group\": 26}, {\"order\": \"Cyanobacteria\", \"name\": \"Nostocales\", \"group\": 27}, {\"order\": \"Dehalococcoidia\", \"name\": \"Dehalococcoidales\", \"group\": 28}, {\"order\": \"Deinococci\", \"name\": \"Thermales\", \"group\": 29}, {\"order\": \"Deinococci\", \"name\": \"Deinococcales\", \"group\": 30}, {\"order\": \"Deltaproteobacteria\", \"name\": \"Desulfovibrionales\", \"group\": 31}, {\"order\": \"Deltaproteobacteria\", \"name\": \"Desulfuromonadales\", \"group\": 32}, {\"order\": \"Deltaproteobacteria\", \"name\": \"Myxococcales\", \"group\": 33}, {\"order\": \"Deltaproteobacteria\", \"name\": \"Desulfobacterales\", \"group\": 34}, {\"order\": \"Enterobacterales\", \"name\": \"Yersiniaceae\", \"group\": 35}, {\"order\": \"Enterobacterales\", \"name\": \"Hafniaceae\", \"group\": 36}, {\"order\": \"Enterobacterales\", \"name\": \"Erwiniaceae\", \"group\": 37}, {\"order\": \"Enterobacterales\", \"name\": \"Pectobacteriaceae\", \"group\": 38}, {\"order\": \"Enterobacterales\", \"name\": \"Morganellaceae\", \"group\": 39}, {\"order\": \"Fusobacteriales\", \"name\": \"Fusobacteriaceae\", \"group\": 40}, {\"order\": \"Legionellales\", \"name\": \"Legionellaceae\", \"group\": 41}, {\"order\": \"Leptospirales\", \"name\": \"Leptospiraceae\", \"group\": 42}, {\"order\": \"Mollicutes\", \"name\": \"Mycoplasmatales\", \"group\": 43}, {\"order\": \"Mollicutes\", \"name\": \"Entomoplasmatales\", \"group\": 44}, {\"order\": \"Mollicutes\", \"name\": \"Acholeplasmatales\", \"group\": 45}, {\"order\": \"Neisseriales\", \"name\": \"Neisseriaceae\", \"group\": 46}, {\"order\": \"Oceanospirillales\", \"name\": \"Halomonadaceae\", \"group\": 47}, {\"order\": \"Pasteurellales\", \"name\": \"Pasteurellaceae\", \"group\": 48}, {\"order\": \"Planctomycetia\", \"name\": \"Planctomycetales\", \"group\": 49}, {\"order\": \"Pseudomonadales\", \"name\": \"Moraxellaceae\", \"group\": 50}, {\"order\": \"Rhizobiales\", \"name\": \"Rhizobiaceae\", \"group\": 51}, {\"order\": \"Rhizobiales\", \"name\": \"Bradyrhizobiaceae\", \"group\": 52}, {\"order\": \"Rhizobiales\", \"name\": \"Brucellaceae\", \"group\": 53}, {\"order\": \"Rhizobiales\", \"name\": \"Hyphomicrobiaceae\", \"group\": 54}, {\"order\": \"Rhizobiales\", \"name\": \"Phyllobacteriaceae\", \"group\": 55}, {\"order\": \"Rhizobiales\", \"name\": \"Methylobacteriaceae\", \"group\": 56}, {\"order\": \"Rhizobiales\", \"name\": \"Bartonellaceae\", \"group\": 57}, {\"order\": \"Rhodobacterales\", \"name\": \"Rhodobacteraceae\", \"group\": 58}, {\"order\": \"Rhodospirillales\", \"name\": \"Acetobacteraceae\", \"group\": 59}, {\"order\": \"Rhodospirillales\", \"name\": \"Rhodospirillaceae\", \"group\": 60}, {\"order\": \"Rickettsiales\", \"name\": \"Anaplasmataceae\", \"group\": 61}, {\"order\": \"Rickettsiales\", \"name\": \"Rickettsiaceae\", \"group\": 62}, {\"order\": \"Sphingomonadales\", \"name\": \"Sphingomonadaceae\", \"group\": 63}, {\"order\": \"Sphingomonadales\", \"name\": \"Erythrobacteraceae\", \"group\": 64}, {\"order\": \"Spirochaetales\", \"name\": \"Spirochaetaceae\", \"group\": 65}, {\"order\": \"Spirochaetales\", \"name\": \"Borreliaceae\", \"group\": 66}, {\"order\": \"Thermotogales\", \"name\": \"Thermotogaceae\", \"group\": 67}, {\"order\": \"Thiotrichales\", \"name\": \"Piscirickettsiaceae\", \"group\": 68}, {\"order\": \"Thiotrichales\", \"name\": \"Francisellaceae\", \"group\": 69}, {\"order\": \"Vibrionales\", \"name\": \"Vibrionaceae\", \"group\": 70}, {\"order\": \"Actinobacteria\", \"name\": \"Xanthomonadaceae\", \"group\": 71}, {\"name\": \"clusters_1\", \"group\": 72}, {\"name\": \"clusters_2\", \"group\": 73}, {\"name\": \"clusters_3\", \"group\": 74}, {\"name\": \"clusters_4\", \"group\": 75}, {\"name\": \"clusters_5\", \"group\": 76}, {\"name\": \"clusters_6\", \"group\": 77}, {\"name\": \"clusters_7\", \"group\": 78}, {\"name\": \"clusters_8\", \"group\": 79}, {\"name\": \"clusters_9\", \"group\": 80}, {\"name\": \"clusters_10\", \"group\": 81}, {\"name\": \"clusters_11\", \"group\": 82}, {\"name\": \"clusters_12\", \"group\": 83}, {\"name\": \"clusters_13\", \"group\": 84}, {\"name\": \"clusters_14\", \"group\": 85}, {\"name\": \"clusters_15\", \"group\": 86}, {\"name\": \"clusters_16\", \"group\": 87}, {\"name\": \"clusters_17\", \"group\": 88}, {\"name\": \"clusters_18\", \"group\": 89}, {\"name\": \"clusters_19\", \"group\": 90}, {\"name\": \"clusters_20\", \"group\": 91}, {\"name\": \"clusters_21\", \"group\": 92}, {\"name\": \"clusters_22\", \"group\": 93}, {\"name\": \"clusters_23\", \"group\": 94}, {\"name\": \"clusters_24\", \"group\": 95}, {\"name\": \"clusters_25\", \"group\": 96}, {\"name\": \"clusters_26\", \"group\": 97}, {\"name\": \"clusters_27\", \"group\": 98}, {\"name\": \"clusters_28\", \"group\": 99}, {\"name\": \"clusters_29\", \"group\": 100}, {\"name\": \"clusters_30\", \"group\": 101}, {\"name\": \"clusters_31\", \"group\": 102}, {\"name\": \"clusters_32\", \"group\": 103}, {\"name\": \"clusters_33\", \"group\": 104}, {\"name\": \"clusters_34\", \"group\": 105}, {\"name\": \"clusters_35\", \"group\": 106}, {\"name\": \"clusters_36\", \"group\": 107}, {\"name\": \"clusters_37\", \"group\": 108}, {\"name\": \"clusters_38\", \"group\": 109}, {\"name\": \"clusters_39\", \"group\": 110}, {\"name\": \"clusters_40\", \"group\": 111}, {\"name\": \"clusters_41\", \"group\": 112}, {\"name\": \"clusters_42\", \"group\": 113}, {\"name\": \"clusters_43\", \"group\": 114}, {\"name\": \"clusters_44\", \"group\": 115}, {\"name\": \"clusters_45\", \"group\": 116}, {\"name\": \"clusters_46\", \"group\": 117}, {\"name\": \"clusters_47\", \"group\": 118}, {\"name\": \"clusters_48\", \"group\": 119}, {\"name\": \"clusters_49\", \"group\": 120}, {\"name\": \"clusters_50\", \"group\": 121}, {\"name\": \"clusters_51\", \"group\": 122}, {\"name\": \"clusters_52\", \"group\": 123}, {\"name\": \"clusters_53\", \"group\": 124}, {\"name\": \"clusters_54\", \"group\": 125}, {\"name\": \"clusters_55\", \"group\": 126}, {\"name\": \"clusters_56\", \"group\": 127}, {\"name\": \"clusters_57\", \"group\": 128}, {\"name\": \"clusters_58\", \"group\": 129}, {\"name\": \"clusters_59\", \"group\": 130}, {\"name\": \"clusters_60\", \"group\": 131}, {\"name\": \"clusters_61\", \"group\": 132}, {\"name\": \"clusters_62\", \"group\": 133}], \"links\": [{\"source\": 0, \"target\": 114, \"value\": 6}, {\"source\": 0, \"target\": 113, \"value\": 1}, {\"source\": 0, \"target\": 86, \"value\": 1}, {\"source\": 0, \"target\": 116, \"value\": 19}, {\"source\": 0, \"target\": 89, \"value\": 3}, {\"source\": 0, \"target\": 72, \"value\": 5}, {\"source\": 0, \"target\": 125, \"value\": 3}, {\"source\": 0, \"target\": 117, \"value\": 1}, {\"source\": 0, \"target\": 85, \"value\": 1}, {\"source\": 0, \"target\": 93, \"value\": 4}, {\"source\": 0, \"target\": 132, \"value\": 19}, {\"source\": 0, \"target\": 111, \"value\": 2}, {\"source\": 0, \"target\": 109, \"value\": 2}, {\"source\": 0, \"target\": 123, \"value\": 1}, {\"source\": 0, \"target\": 105, \"value\": 1}, {\"source\": 0, \"target\": 75, \"value\": 6}, {\"source\": 0, \"target\": 122, \"value\": 1}, {\"source\": 1, \"target\": 117, \"value\": 7}, {\"source\": 1, \"target\": 122, \"value\": 3}, {\"source\": 1, \"target\": 72, \"value\": 3}, {\"source\": 1, \"target\": 90, \"value\": 9}, {\"source\": 1, \"target\": 114, \"value\": 1}, {\"source\": 1, \"target\": 86, \"value\": 2}, {\"source\": 1, \"target\": 115, \"value\": 35}, {\"source\": 1, \"target\": 133, \"value\": 3}, {\"source\": 1, \"target\": 119, \"value\": 1}, {\"source\": 1, \"target\": 82, \"value\": 13}, {\"source\": 1, \"target\": 132, \"value\": 13}, {\"source\": 1, \"target\": 75, \"value\": 2}, {\"source\": 2, \"target\": 109, \"value\": 1}, {\"source\": 2, \"target\": 132, \"value\": 5}, {\"source\": 2, \"target\": 73, \"value\": 9}, {\"source\": 2, \"target\": 82, \"value\": 8}, {\"source\": 2, \"target\": 75, \"value\": 2}, {\"source\": 2, \"target\": 99, \"value\": 12}, {\"source\": 2, \"target\": 115, \"value\": 1}, {\"source\": 2, \"target\": 90, \"value\": 18}, {\"source\": 2, \"target\": 119, \"value\": 1}, {\"source\": 2, \"target\": 96, \"value\": 5}, {\"source\": 2, \"target\": 114, \"value\": 2}, {\"source\": 2, \"target\": 86, \"value\": 1}, {\"source\": 2, \"target\": 72, \"value\": 2}, {\"source\": 2, \"target\": 125, \"value\": 1}, {\"source\": 2, \"target\": 102, \"value\": 1}, {\"source\": 2, \"target\": 123, \"value\": 10}, {\"source\": 3, \"target\": 99, \"value\": 1}, {\"source\": 3, \"target\": 90, \"value\": 2}, {\"source\": 3, \"target\": 109, \"value\": 6}, {\"source\": 3, \"target\": 132, \"value\": 1}, {\"source\": 4, \"target\": 90, \"value\": 1}, {\"source\": 4, \"target\": 109, \"value\": 4}, {\"source\": 4, \"target\": 132, \"value\": 7}, {\"source\": 4, \"target\": 113, \"value\": 6}, {\"source\": 4, \"target\": 124, \"value\": 4}, {\"source\": 4, \"target\": 82, \"value\": 4}, {\"source\": 5, \"target\": 124, \"value\": 2}, {\"source\": 5, \"target\": 82, \"value\": 4}, {\"source\": 5, \"target\": 117, \"value\": 18}, {\"source\": 5, \"target\": 113, \"value\": 4}, {\"source\": 5, \"target\": 86, \"value\": 11}, {\"source\": 6, \"target\": 124, \"value\": 1}, {\"source\": 6, \"target\": 113, \"value\": 4}, {\"source\": 6, \"target\": 117, \"value\": 1}, {\"source\": 6, \"target\": 86, \"value\": 5}, {\"source\": 6, \"target\": 89, \"value\": 1}, {\"source\": 6, \"target\": 82, \"value\": 1}, {\"source\": 7, \"target\": 75, \"value\": 1}, {\"source\": 7, \"target\": 113, \"value\": 1}, {\"source\": 7, \"target\": 117, \"value\": 10}, {\"source\": 7, \"target\": 82, \"value\": 1}, {\"source\": 7, \"target\": 123, \"value\": 17}, {\"source\": 8, \"target\": 123, \"value\": 3}, {\"source\": 8, \"target\": 73, \"value\": 10}, {\"source\": 8, \"target\": 128, \"value\": 1}, {\"source\": 9, \"target\": 117, \"value\": 1}, {\"source\": 9, \"target\": 85, \"value\": 1}, {\"source\": 9, \"target\": 116, \"value\": 15}, {\"source\": 9, \"target\": 89, \"value\": 3}, {\"source\": 9, \"target\": 128, \"value\": 1}, {\"source\": 9, \"target\": 74, \"value\": 2}, {\"source\": 9, \"target\": 108, \"value\": 7}, {\"source\": 9, \"target\": 77, \"value\": 4}, {\"source\": 9, \"target\": 72, \"value\": 14}, {\"source\": 10, \"target\": 108, \"value\": 1}, {\"source\": 10, \"target\": 77, \"value\": 19}, {\"source\": 10, \"target\": 72, \"value\": 9}, {\"source\": 11, \"target\": 77, \"value\": 9}, {\"source\": 11, \"target\": 133, \"value\": 1}, {\"source\": 12, \"target\": 108, \"value\": 1}, {\"source\": 12, \"target\": 133, \"value\": 15}, {\"source\": 12, \"target\": 77, \"value\": 60}, {\"source\": 12, \"target\": 116, \"value\": 27}, {\"source\": 12, \"target\": 85, \"value\": 3}, {\"source\": 12, \"target\": 105, \"value\": 5}, {\"source\": 12, \"target\": 72, \"value\": 2}, {\"source\": 12, \"target\": 89, \"value\": 4}, {\"source\": 12, \"target\": 117, \"value\": 18}, {\"source\": 12, \"target\": 82, \"value\": 2}, {\"source\": 12, \"target\": 78, \"value\": 1}, {\"source\": 12, \"target\": 112, \"value\": 1}, {\"source\": 13, \"target\": 78, \"value\": 1}, {\"source\": 13, \"target\": 82, \"value\": 3}, {\"source\": 13, \"target\": 112, \"value\": 11}, {\"source\": 13, \"target\": 86, \"value\": 2}, {\"source\": 13, \"target\": 90, \"value\": 6}, {\"source\": 13, \"target\": 75, \"value\": 5}, {\"source\": 13, \"target\": 114, \"value\": 1}, {\"source\": 13, \"target\": 96, \"value\": 4}, {\"source\": 13, \"target\": 125, \"value\": 4}, {\"source\": 13, \"target\": 118, \"value\": 4}, {\"source\": 13, \"target\": 92, \"value\": 2}, {\"source\": 13, \"target\": 95, \"value\": 2}, {\"source\": 13, \"target\": 89, \"value\": 1}, {\"source\": 13, \"target\": 119, \"value\": 3}, {\"source\": 13, \"target\": 109, \"value\": 1}, {\"source\": 13, \"target\": 102, \"value\": 2}, {\"source\": 13, \"target\": 83, \"value\": 4}, {\"source\": 13, \"target\": 73, \"value\": 1}, {\"source\": 13, \"target\": 113, \"value\": 2}, {\"source\": 14, \"target\": 109, \"value\": 1}, {\"source\": 14, \"target\": 96, \"value\": 1}, {\"source\": 14, \"target\": 119, \"value\": 3}, {\"source\": 14, \"target\": 83, \"value\": 1}, {\"source\": 14, \"target\": 90, \"value\": 4}, {\"source\": 14, \"target\": 95, \"value\": 3}, {\"source\": 14, \"target\": 75, \"value\": 7}, {\"source\": 14, \"target\": 99, \"value\": 3}, {\"source\": 14, \"target\": 132, \"value\": 1}, {\"source\": 14, \"target\": 86, \"value\": 1}, {\"source\": 14, \"target\": 92, \"value\": 2}, {\"source\": 14, \"target\": 115, \"value\": 1}, {\"source\": 14, \"target\": 105, \"value\": 1}, {\"source\": 14, \"target\": 73, \"value\": 4}, {\"source\": 14, \"target\": 118, \"value\": 1}, {\"source\": 14, \"target\": 125, \"value\": 1}, {\"source\": 15, \"target\": 125, \"value\": 2}, {\"source\": 15, \"target\": 90, \"value\": 2}, {\"source\": 15, \"target\": 119, \"value\": 2}, {\"source\": 15, \"target\": 109, \"value\": 1}, {\"source\": 15, \"target\": 99, \"value\": 1}, {\"source\": 15, \"target\": 102, \"value\": 2}, {\"source\": 15, \"target\": 115, \"value\": 2}, {\"source\": 16, \"target\": 83, \"value\": 4}, {\"source\": 16, \"target\": 99, \"value\": 6}, {\"source\": 16, \"target\": 119, \"value\": 1}, {\"source\": 16, \"target\": 123, \"value\": 20}, {\"source\": 16, \"target\": 114, \"value\": 1}, {\"source\": 16, \"target\": 133, \"value\": 1}, {\"source\": 16, \"target\": 90, \"value\": 1}, {\"source\": 16, \"target\": 95, \"value\": 2}, {\"source\": 16, \"target\": 109, \"value\": 1}, {\"source\": 16, \"target\": 92, \"value\": 2}, {\"source\": 16, \"target\": 118, \"value\": 1}, {\"source\": 16, \"target\": 96, \"value\": 4}, {\"source\": 16, \"target\": 102, \"value\": 1}, {\"source\": 17, \"target\": 82, \"value\": 1}, {\"source\": 17, \"target\": 118, \"value\": 1}, {\"source\": 17, \"target\": 95, \"value\": 1}, {\"source\": 17, \"target\": 86, \"value\": 5}, {\"source\": 17, \"target\": 96, \"value\": 1}, {\"source\": 17, \"target\": 92, \"value\": 2}, {\"source\": 17, \"target\": 119, \"value\": 1}, {\"source\": 18, \"target\": 92, \"value\": 1}, {\"source\": 18, \"target\": 95, \"value\": 3}, {\"source\": 18, \"target\": 72, \"value\": 4}, {\"source\": 18, \"target\": 99, \"value\": 8}, {\"source\": 18, \"target\": 125, \"value\": 2}, {\"source\": 18, \"target\": 119, \"value\": 1}, {\"source\": 18, \"target\": 109, \"value\": 3}, {\"source\": 18, \"target\": 102, \"value\": 1}, {\"source\": 18, \"target\": 118, \"value\": 1}, {\"source\": 18, \"target\": 83, \"value\": 1}, {\"source\": 19, \"target\": 95, \"value\": 1}, {\"source\": 19, \"target\": 118, \"value\": 1}, {\"source\": 19, \"target\": 73, \"value\": 11}, {\"source\": 19, \"target\": 90, \"value\": 1}, {\"source\": 20, \"target\": 92, \"value\": 8}, {\"source\": 20, \"target\": 114, \"value\": 1}, {\"source\": 20, \"target\": 73, \"value\": 9}, {\"source\": 20, \"target\": 118, \"value\": 1}, {\"source\": 20, \"target\": 72, \"value\": 7}, {\"source\": 20, \"target\": 122, \"value\": 2}, {\"source\": 20, \"target\": 85, \"value\": 6}, {\"source\": 20, \"target\": 120, \"value\": 1}, {\"source\": 20, \"target\": 128, \"value\": 2}, {\"source\": 20, \"target\": 86, \"value\": 1}, {\"source\": 20, \"target\": 89, \"value\": 5}, {\"source\": 20, \"target\": 117, \"value\": 3}, {\"source\": 20, \"target\": 116, \"value\": 3}, {\"source\": 20, \"target\": 119, \"value\": 4}, {\"source\": 20, \"target\": 132, \"value\": 1}, {\"source\": 20, \"target\": 106, \"value\": 2}, {\"source\": 20, \"target\": 96, \"value\": 15}, {\"source\": 20, \"target\": 109, \"value\": 4}, {\"source\": 20, \"target\": 102, \"value\": 1}, {\"source\": 20, \"target\": 99, \"value\": 5}, {\"source\": 20, \"target\": 130, \"value\": 1}, {\"source\": 20, \"target\": 95, \"value\": 1}, {\"source\": 20, \"target\": 82, \"value\": 7}, {\"source\": 20, \"target\": 133, \"value\": 13}, {\"source\": 20, \"target\": 90, \"value\": 9}, {\"source\": 20, \"target\": 110, \"value\": 3}, {\"source\": 20, \"target\": 75, \"value\": 1}, {\"source\": 20, \"target\": 105, \"value\": 5}, {\"source\": 21, \"target\": 89, \"value\": 4}, {\"source\": 21, \"target\": 113, \"value\": 1}, {\"source\": 21, \"target\": 133, \"value\": 1}, {\"source\": 21, \"target\": 96, \"value\": 2}, {\"source\": 21, \"target\": 106, \"value\": 1}, {\"source\": 21, \"target\": 90, \"value\": 1}, {\"source\": 21, \"target\": 72, \"value\": 1}, {\"source\": 21, \"target\": 99, \"value\": 1}, {\"source\": 21, \"target\": 122, \"value\": 1}, {\"source\": 21, \"target\": 86, \"value\": 1}, {\"source\": 22, \"target\": 117, \"value\": 1}, {\"source\": 22, \"target\": 89, \"value\": 1}, {\"source\": 22, \"target\": 86, \"value\": 1}, {\"source\": 22, \"target\": 72, \"value\": 2}, {\"source\": 22, \"target\": 96, \"value\": 1}, {\"source\": 22, \"target\": 125, \"value\": 4}, {\"source\": 22, \"target\": 73, \"value\": 1}, {\"source\": 23, \"target\": 117, \"value\": 6}, {\"source\": 23, \"target\": 73, \"value\": 15}, {\"source\": 23, \"target\": 72, \"value\": 1}, {\"source\": 23, \"target\": 86, \"value\": 6}, {\"source\": 23, \"target\": 89, \"value\": 13}, {\"source\": 23, \"target\": 113, \"value\": 1}, {\"source\": 23, \"target\": 133, \"value\": 9}, {\"source\": 23, \"target\": 125, \"value\": 30}, {\"source\": 23, \"target\": 93, \"value\": 1}, {\"source\": 23, \"target\": 123, \"value\": 8}, {\"source\": 23, \"target\": 111, \"value\": 8}, {\"source\": 23, \"target\": 106, \"value\": 2}, {\"source\": 23, \"target\": 96, \"value\": 18}, {\"source\": 23, \"target\": 76, \"value\": 3}, {\"source\": 23, \"target\": 132, \"value\": 16}, {\"source\": 23, \"target\": 130, \"value\": 3}, {\"source\": 23, \"target\": 109, \"value\": 15}, {\"source\": 23, \"target\": 102, \"value\": 2}, {\"source\": 23, \"target\": 90, \"value\": 1}, {\"source\": 23, \"target\": 92, \"value\": 3}, {\"source\": 23, \"target\": 119, \"value\": 17}, {\"source\": 24, \"target\": 92, \"value\": 5}, {\"source\": 24, \"target\": 111, \"value\": 1}, {\"source\": 24, \"target\": 102, \"value\": 6}, {\"source\": 24, \"target\": 73, \"value\": 1}, {\"source\": 24, \"target\": 90, \"value\": 13}, {\"source\": 24, \"target\": 99, \"value\": 1}, {\"source\": 24, \"target\": 109, \"value\": 6}, {\"source\": 24, \"target\": 119, \"value\": 2}, {\"source\": 25, \"target\": 92, \"value\": 2}, {\"source\": 25, \"target\": 90, \"value\": 1}, {\"source\": 25, \"target\": 102, \"value\": 10}, {\"source\": 25, \"target\": 73, \"value\": 8}, {\"source\": 25, \"target\": 111, \"value\": 1}, {\"source\": 25, \"target\": 119, \"value\": 2}, {\"source\": 25, \"target\": 132, \"value\": 1}, {\"source\": 26, \"target\": 73, \"value\": 16}, {\"source\": 26, \"target\": 92, \"value\": 9}, {\"source\": 26, \"target\": 102, \"value\": 1}, {\"source\": 26, \"target\": 99, \"value\": 18}, {\"source\": 26, \"target\": 95, \"value\": 1}, {\"source\": 26, \"target\": 98, \"value\": 12}, {\"source\": 27, \"target\": 98, \"value\": 4}, {\"source\": 27, \"target\": 73, \"value\": 12}, {\"source\": 28, \"target\": 73, \"value\": 10}, {\"source\": 28, \"target\": 98, \"value\": 6}, {\"source\": 28, \"target\": 118, \"value\": 8}, {\"source\": 29, \"target\": 118, \"value\": 4}, {\"source\": 29, \"target\": 72, \"value\": 10}, {\"source\": 30, \"target\": 72, \"value\": 5}, {\"source\": 30, \"target\": 96, \"value\": 2}, {\"source\": 30, \"target\": 86, \"value\": 1}, {\"source\": 30, \"target\": 100, \"value\": 4}, {\"source\": 30, \"target\": 89, \"value\": 1}, {\"source\": 31, \"target\": 89, \"value\": 1}, {\"source\": 31, \"target\": 100, \"value\": 8}, {\"source\": 31, \"target\": 93, \"value\": 6}, {\"source\": 31, \"target\": 114, \"value\": 2}, {\"source\": 31, \"target\": 133, \"value\": 1}, {\"source\": 31, \"target\": 111, \"value\": 1}, {\"source\": 32, \"target\": 100, \"value\": 4}, {\"source\": 32, \"target\": 72, \"value\": 2}, {\"source\": 32, \"target\": 117, \"value\": 2}, {\"source\": 32, \"target\": 89, \"value\": 1}, {\"source\": 32, \"target\": 105, \"value\": 2}, {\"source\": 32, \"target\": 114, \"value\": 7}, {\"source\": 33, \"target\": 86, \"value\": 2}, {\"source\": 33, \"target\": 116, \"value\": 2}, {\"source\": 33, \"target\": 85, \"value\": 11}, {\"source\": 33, \"target\": 128, \"value\": 1}, {\"source\": 33, \"target\": 87, \"value\": 2}, {\"source\": 33, \"target\": 102, \"value\": 1}, {\"source\": 33, \"target\": 119, \"value\": 1}, {\"source\": 34, \"target\": 109, \"value\": 3}, {\"source\": 34, \"target\": 119, \"value\": 2}, {\"source\": 34, \"target\": 87, \"value\": 5}, {\"source\": 35, \"target\": 87, \"value\": 1}, {\"source\": 35, \"target\": 119, \"value\": 2}, {\"source\": 35, \"target\": 102, \"value\": 5}, {\"source\": 35, \"target\": 109, \"value\": 9}, {\"source\": 35, \"target\": 133, \"value\": 1}, {\"source\": 35, \"target\": 99, \"value\": 42}, {\"source\": 35, \"target\": 85, \"value\": 4}, {\"source\": 35, \"target\": 79, \"value\": 1}, {\"source\": 35, \"target\": 128, \"value\": 11}, {\"source\": 35, \"target\": 103, \"value\": 1}, {\"source\": 35, \"target\": 75, \"value\": 10}, {\"source\": 35, \"target\": 89, \"value\": 6}, {\"source\": 35, \"target\": 105, \"value\": 1}, {\"source\": 35, \"target\": 86, \"value\": 6}, {\"source\": 35, \"target\": 117, \"value\": 3}, {\"source\": 35, \"target\": 125, \"value\": 2}, {\"source\": 35, \"target\": 72, \"value\": 1}, {\"source\": 36, \"target\": 79, \"value\": 1}, {\"source\": 36, \"target\": 105, \"value\": 1}, {\"source\": 36, \"target\": 117, \"value\": 1}, {\"source\": 36, \"target\": 89, \"value\": 1}, {\"source\": 36, \"target\": 75, \"value\": 1}, {\"source\": 36, \"target\": 72, \"value\": 7}, {\"source\": 36, \"target\": 113, \"value\": 1}, {\"source\": 36, \"target\": 86, \"value\": 2}, {\"source\": 37, \"target\": 105, \"value\": 3}, {\"source\": 37, \"target\": 89, \"value\": 1}, {\"source\": 37, \"target\": 72, \"value\": 3}, {\"source\": 37, \"target\": 85, \"value\": 1}, {\"source\": 37, \"target\": 113, \"value\": 3}, {\"source\": 37, \"target\": 117, \"value\": 8}, {\"source\": 37, \"target\": 86, \"value\": 28}, {\"source\": 37, \"target\": 79, \"value\": 2}, {\"source\": 37, \"target\": 75, \"value\": 3}, {\"source\": 37, \"target\": 125, \"value\": 1}, {\"source\": 38, \"target\": 105, \"value\": 3}, {\"source\": 38, \"target\": 79, \"value\": 2}, {\"source\": 38, \"target\": 103, \"value\": 4}, {\"source\": 38, \"target\": 90, \"value\": 5}, {\"source\": 38, \"target\": 109, \"value\": 3}, {\"source\": 38, \"target\": 94, \"value\": 2}, {\"source\": 38, \"target\": 104, \"value\": 2}, {\"source\": 38, \"target\": 119, \"value\": 1}, {\"source\": 39, \"target\": 94, \"value\": 1}, {\"source\": 39, \"target\": 119, \"value\": 12}, {\"source\": 39, \"target\": 109, \"value\": 7}, {\"source\": 39, \"target\": 104, \"value\": 3}, {\"source\": 39, \"target\": 90, \"value\": 3}, {\"source\": 40, \"target\": 90, \"value\": 5}, {\"source\": 40, \"target\": 104, \"value\": 3}, {\"source\": 40, \"target\": 94, \"value\": 7}, {\"source\": 40, \"target\": 119, \"value\": 1}, {\"source\": 40, \"target\": 109, \"value\": 3}, {\"source\": 41, \"target\": 94, \"value\": 3}, {\"source\": 41, \"target\": 90, \"value\": 22}, {\"source\": 41, \"target\": 104, \"value\": 2}, {\"source\": 41, \"target\": 119, \"value\": 20}, {\"source\": 41, \"target\": 109, \"value\": 10}, {\"source\": 41, \"target\": 115, \"value\": 2}, {\"source\": 41, \"target\": 99, \"value\": 13}, {\"source\": 41, \"target\": 133, \"value\": 1}, {\"source\": 42, \"target\": 119, \"value\": 1}, {\"source\": 42, \"target\": 99, \"value\": 1}, {\"source\": 42, \"target\": 115, \"value\": 4}, {\"source\": 42, \"target\": 96, \"value\": 1}, {\"source\": 42, \"target\": 93, \"value\": 9}, {\"source\": 42, \"target\": 133, \"value\": 1}, {\"source\": 43, \"target\": 119, \"value\": 5}, {\"source\": 43, \"target\": 93, \"value\": 46}, {\"source\": 43, \"target\": 123, \"value\": 37}, {\"source\": 43, \"target\": 111, \"value\": 23}, {\"source\": 43, \"target\": 132, \"value\": 3}, {\"source\": 43, \"target\": 84, \"value\": 19}, {\"source\": 43, \"target\": 82, \"value\": 23}, {\"source\": 44, \"target\": 93, \"value\": 8}, {\"source\": 44, \"target\": 123, \"value\": 2}, {\"source\": 44, \"target\": 128, \"value\": 8}, {\"source\": 44, \"target\": 79, \"value\": 1}, {\"source\": 44, \"target\": 103, \"value\": 1}, {\"source\": 44, \"target\": 105, \"value\": 1}, {\"source\": 44, \"target\": 121, \"value\": 3}, {\"source\": 45, \"target\": 97, \"value\": 1}, {\"source\": 45, \"target\": 121, \"value\": 6}, {\"source\": 45, \"target\": 81, \"value\": 2}, {\"source\": 46, \"target\": 97, \"value\": 35}, {\"source\": 46, \"target\": 81, \"value\": 1}, {\"source\": 46, \"target\": 121, \"value\": 35}, {\"source\": 46, \"target\": 109, \"value\": 8}, {\"source\": 46, \"target\": 133, \"value\": 1}, {\"source\": 46, \"target\": 90, \"value\": 1}, {\"source\": 46, \"target\": 114, \"value\": 12}, {\"source\": 46, \"target\": 102, \"value\": 2}, {\"source\": 46, \"target\": 130, \"value\": 3}, {\"source\": 47, \"target\": 130, \"value\": 1}, {\"source\": 47, \"target\": 102, \"value\": 1}, {\"source\": 47, \"target\": 99, \"value\": 2}, {\"source\": 47, \"target\": 119, \"value\": 1}, {\"source\": 47, \"target\": 96, \"value\": 7}, {\"source\": 47, \"target\": 73, \"value\": 9}, {\"source\": 47, \"target\": 72, \"value\": 3}, {\"source\": 47, \"target\": 109, \"value\": 3}, {\"source\": 47, \"target\": 92, \"value\": 4}, {\"source\": 47, \"target\": 133, \"value\": 2}, {\"source\": 48, \"target\": 120, \"value\": 2}, {\"source\": 48, \"target\": 100, \"value\": 8}, {\"source\": 48, \"target\": 122, \"value\": 1}, {\"source\": 48, \"target\": 106, \"value\": 1}, {\"source\": 48, \"target\": 96, \"value\": 1}, {\"source\": 48, \"target\": 128, \"value\": 72}, {\"source\": 48, \"target\": 72, \"value\": 2}, {\"source\": 48, \"target\": 114, \"value\": 6}, {\"source\": 48, \"target\": 109, \"value\": 7}, {\"source\": 48, \"target\": 90, \"value\": 3}, {\"source\": 49, \"target\": 109, \"value\": 1}, {\"source\": 49, \"target\": 90, \"value\": 11}, {\"source\": 50, \"target\": 109, \"value\": 4}, {\"source\": 50, \"target\": 133, \"value\": 10}, {\"source\": 50, \"target\": 106, \"value\": 1}, {\"source\": 50, \"target\": 72, \"value\": 4}, {\"source\": 50, \"target\": 74, \"value\": 18}, {\"source\": 50, \"target\": 117, \"value\": 2}, {\"source\": 50, \"target\": 116, \"value\": 1}, {\"source\": 50, \"target\": 90, \"value\": 6}, {\"source\": 50, \"target\": 75, \"value\": 3}, {\"source\": 50, \"target\": 80, \"value\": 10}, {\"source\": 50, \"target\": 85, \"value\": 8}, {\"source\": 50, \"target\": 126, \"value\": 13}, {\"source\": 50, \"target\": 79, \"value\": 2}, {\"source\": 50, \"target\": 89, \"value\": 1}, {\"source\": 50, \"target\": 105, \"value\": 4}, {\"source\": 50, \"target\": 113, \"value\": 3}, {\"source\": 50, \"target\": 86, \"value\": 1}, {\"source\": 50, \"target\": 115, \"value\": 16}, {\"source\": 50, \"target\": 119, \"value\": 17}, {\"source\": 51, \"target\": 119, \"value\": 1}, {\"source\": 51, \"target\": 96, \"value\": 39}, {\"source\": 51, \"target\": 115, \"value\": 10}, {\"source\": 51, \"target\": 103, \"value\": 1}, {\"source\": 51, \"target\": 89, \"value\": 1}, {\"source\": 51, \"target\": 79, \"value\": 1}, {\"source\": 51, \"target\": 85, \"value\": 14}, {\"source\": 51, \"target\": 74, \"value\": 4}, {\"source\": 51, \"target\": 122, \"value\": 1}, {\"source\": 51, \"target\": 109, \"value\": 1}, {\"source\": 51, \"target\": 132, \"value\": 10}, {\"source\": 51, \"target\": 73, \"value\": 7}, {\"source\": 51, \"target\": 117, \"value\": 1}, {\"source\": 51, \"target\": 128, \"value\": 4}, {\"source\": 52, \"target\": 74, \"value\": 28}, {\"source\": 52, \"target\": 122, \"value\": 1}, {\"source\": 52, \"target\": 117, \"value\": 2}, {\"source\": 53, \"target\": 74, \"value\": 10}, {\"source\": 53, \"target\": 109, \"value\": 6}, {\"source\": 53, \"target\": 89, \"value\": 8}, {\"source\": 53, \"target\": 117, \"value\": 8}, {\"source\": 53, \"target\": 72, \"value\": 1}, {\"source\": 53, \"target\": 85, \"value\": 17}, {\"source\": 53, \"target\": 116, \"value\": 11}, {\"source\": 53, \"target\": 133, \"value\": 3}, {\"source\": 53, \"target\": 122, \"value\": 5}, {\"source\": 53, \"target\": 125, \"value\": 3}, {\"source\": 53, \"target\": 128, \"value\": 2}, {\"source\": 53, \"target\": 132, \"value\": 3}, {\"source\": 54, \"target\": 122, \"value\": 1}, {\"source\": 54, \"target\": 128, \"value\": 1}, {\"source\": 54, \"target\": 72, \"value\": 1}, {\"source\": 54, \"target\": 116, \"value\": 3}, {\"source\": 54, \"target\": 125, \"value\": 1}, {\"source\": 54, \"target\": 127, \"value\": 1}, {\"source\": 54, \"target\": 107, \"value\": 1}, {\"source\": 54, \"target\": 73, \"value\": 4}, {\"source\": 55, \"target\": 107, \"value\": 4}, {\"source\": 55, \"target\": 73, \"value\": 4}, {\"source\": 55, \"target\": 127, \"value\": 6}, {\"source\": 56, \"target\": 127, \"value\": 1}, {\"source\": 56, \"target\": 107, \"value\": 7}, {\"source\": 56, \"target\": 73, \"value\": 7}, {\"source\": 57, \"target\": 73, \"value\": 6}, {\"source\": 57, \"target\": 127, \"value\": 2}, {\"source\": 57, \"target\": 107, \"value\": 2}, {\"source\": 57, \"target\": 115, \"value\": 1}, {\"source\": 57, \"target\": 96, \"value\": 11}, {\"source\": 58, \"target\": 119, \"value\": 1}, {\"source\": 58, \"target\": 115, \"value\": 4}, {\"source\": 58, \"target\": 133, \"value\": 8}, {\"source\": 58, \"target\": 96, \"value\": 12}, {\"source\": 58, \"target\": 99, \"value\": 4}, {\"source\": 58, \"target\": 114, \"value\": 10}, {\"source\": 58, \"target\": 102, \"value\": 1}, {\"source\": 58, \"target\": 90, \"value\": 7}, {\"source\": 58, \"target\": 89, \"value\": 5}, {\"source\": 58, \"target\": 128, \"value\": 2}, {\"source\": 58, \"target\": 116, \"value\": 3}, {\"source\": 58, \"target\": 85, \"value\": 2}, {\"source\": 59, \"target\": 116, \"value\": 1}, {\"source\": 59, \"target\": 89, \"value\": 4}, {\"source\": 59, \"target\": 117, \"value\": 3}, {\"source\": 59, \"target\": 86, \"value\": 6}, {\"source\": 59, \"target\": 128, \"value\": 4}, {\"source\": 59, \"target\": 90, \"value\": 3}, {\"source\": 59, \"target\": 72, \"value\": 1}, {\"source\": 59, \"target\": 119, \"value\": 1}, {\"source\": 59, \"target\": 75, \"value\": 16}, {\"source\": 59, \"target\": 96, \"value\": 5}, {\"source\": 59, \"target\": 113, \"value\": 3}, {\"source\": 59, \"target\": 125, \"value\": 1}, {\"source\": 59, \"target\": 114, \"value\": 1}, {\"source\": 60, \"target\": 75, \"value\": 1}, {\"source\": 60, \"target\": 73, \"value\": 1}, {\"source\": 60, \"target\": 90, \"value\": 8}, {\"source\": 60, \"target\": 79, \"value\": 1}, {\"source\": 60, \"target\": 103, \"value\": 10}, {\"source\": 61, \"target\": 103, \"value\": 18}, {\"source\": 61, \"target\": 79, \"value\": 14}, {\"source\": 62, \"target\": 79, \"value\": 8}, {\"source\": 62, \"target\": 103, \"value\": 4}, {\"source\": 62, \"target\": 132, \"value\": 22}, {\"source\": 62, \"target\": 90, \"value\": 2}, {\"source\": 62, \"target\": 125, \"value\": 2}, {\"source\": 62, \"target\": 75, \"value\": 1}, {\"source\": 62, \"target\": 73, \"value\": 7}, {\"source\": 62, \"target\": 86, \"value\": 4}, {\"source\": 62, \"target\": 99, \"value\": 1}, {\"source\": 63, \"target\": 86, \"value\": 4}, {\"source\": 63, \"target\": 90, \"value\": 7}, {\"source\": 63, \"target\": 89, \"value\": 2}, {\"source\": 63, \"target\": 115, \"value\": 12}, {\"source\": 63, \"target\": 96, \"value\": 4}, {\"source\": 63, \"target\": 109, \"value\": 1}, {\"source\": 63, \"target\": 113, \"value\": 3}, {\"source\": 63, \"target\": 73, \"value\": 14}, {\"source\": 63, \"target\": 125, \"value\": 1}, {\"source\": 63, \"target\": 133, \"value\": 1}, {\"source\": 63, \"target\": 117, \"value\": 2}, {\"source\": 63, \"target\": 105, \"value\": 2}, {\"source\": 64, \"target\": 73, \"value\": 11}, {\"source\": 64, \"target\": 75, \"value\": 1}, {\"source\": 64, \"target\": 125, \"value\": 1}, {\"source\": 64, \"target\": 90, \"value\": 1}, {\"source\": 65, \"target\": 73, \"value\": 11}, {\"source\": 65, \"target\": 90, \"value\": 2}, {\"source\": 65, \"target\": 125, \"value\": 1}, {\"source\": 65, \"target\": 75, \"value\": 1}, {\"source\": 65, \"target\": 109, \"value\": 5}, {\"source\": 66, \"target\": 75, \"value\": 14}, {\"source\": 66, \"target\": 82, \"value\": 1}, {\"source\": 66, \"target\": 109, \"value\": 2}, {\"source\": 66, \"target\": 85, \"value\": 1}, {\"source\": 66, \"target\": 128, \"value\": 2}, {\"source\": 66, \"target\": 117, \"value\": 1}, {\"source\": 66, \"target\": 103, \"value\": 1}, {\"source\": 66, \"target\": 89, \"value\": 1}, {\"source\": 66, \"target\": 122, \"value\": 1}, {\"source\": 66, \"target\": 120, \"value\": 1}, {\"source\": 66, \"target\": 90, \"value\": 1}, {\"source\": 66, \"target\": 79, \"value\": 1}, {\"source\": 66, \"target\": 91, \"value\": 3}, {\"source\": 67, \"target\": 96, \"value\": 6}, {\"source\": 67, \"target\": 119, \"value\": 4}, {\"source\": 67, \"target\": 91, \"value\": 1}, {\"source\": 67, \"target\": 115, \"value\": 6}, {\"source\": 67, \"target\": 133, \"value\": 2}, {\"source\": 67, \"target\": 99, \"value\": 1}, {\"source\": 68, \"target\": 115, \"value\": 1}, {\"source\": 68, \"target\": 96, \"value\": 6}, {\"source\": 68, \"target\": 91, \"value\": 2}, {\"source\": 68, \"target\": 119, \"value\": 14}, {\"source\": 68, \"target\": 90, \"value\": 1}, {\"source\": 69, \"target\": 115, \"value\": 1}, {\"source\": 69, \"target\": 91, \"value\": 12}, {\"source\": 69, \"target\": 96, \"value\": 8}, {\"source\": 69, \"target\": 114, \"value\": 1}, {\"source\": 69, \"target\": 133, \"value\": 36}, {\"source\": 69, \"target\": 90, \"value\": 1}, {\"source\": 69, \"target\": 119, \"value\": 2}, {\"source\": 70, \"target\": 115, \"value\": 5}, {\"source\": 70, \"target\": 90, \"value\": 31}, {\"source\": 70, \"target\": 96, \"value\": 1}, {\"source\": 70, \"target\": 92, \"value\": 1}, {\"source\": 70, \"target\": 114, \"value\": 3}, {\"source\": 70, \"target\": 120, \"value\": 12}, {\"source\": 70, \"target\": 88, \"value\": 10}, {\"source\": 70, \"target\": 131, \"value\": 1}, {\"source\": 70, \"target\": 117, \"value\": 26}, {\"source\": 70, \"target\": 85, \"value\": 2}, {\"source\": 70, \"target\": 128, \"value\": 4}, {\"source\": 70, \"target\": 122, \"value\": 25}, {\"source\": 71, \"target\": 120, \"value\": 1}, {\"source\": 71, \"target\": 88, \"value\": 1}, {\"source\": 71, \"target\": 131, \"value\": 8}, {\"source\": 71, \"target\": 114, \"value\": 25}, {\"source\": 71, \"target\": 85, \"value\": 10}, {\"source\": 71, \"target\": 122, \"value\": 14}, {\"source\": 71, \"target\": 129, \"value\": 1}, {\"source\": 71, \"target\": 101, \"value\": 1}, {\"source\": 71, \"target\": 96, \"value\": 8}, {\"source\": 71, \"target\": 106, \"value\": 17}, {\"source\": 71, \"target\": 133, \"value\": 38}, {\"source\": 71, \"target\": 73, \"value\": 1}, {\"source\": 71, \"target\": 111, \"value\": 3}]};\n",
       "  // List of node names\n",
       "  const allNodes = data.nodes.map((d) => d.name);\n",
       "\n",
       "  // List of groups\n",
       "  let allGroups = data.nodes.map((d) => d.order);\n",
       "  allGroups = [...new Set(allGroups)];\n",
       "\n",
       "  // A color scale for groups:\n",
       "  const color = d3.scaleOrdinal().domain(allGroups).range(d3.schemeSet3);\n",
       "\n",
       "  // A linear scale for node size\n",
       "  const size = d3.scaleLinear().domain([1, 10]).range([0.5, 8]);\n",
       "\n",
       "  // A linear scale to position the nodes on the X axis\n",
       "  const x = d3.scalePoint().range([0, width]).domain(allNodes);\n",
       "\n",
       "  // In my input data, links are provided between nodes -id-, NOT between node names.\n",
       "  // So I have to do a link between this id and the name\n",
       "  const idToNode = {};\n",
       "  data.nodes.forEach(function (n) {\n",
       "    idToNode[n.group] = n;\n",
       "  });\n",
       "\n",
       "  // Add the links\n",
       "  const links = svg\n",
       "    .selectAll(\"mylinks\")\n",
       "    .data(data.links)\n",
       "    .join(\"path\")\n",
       "    .attr(\"d\", (d) => {\n",
       "      start = x(idToNode[d.source].name); // X position of start node on the X axis\n",
       "      end = x(idToNode[d.target].name); // X position of end node\n",
       "      return [\n",
       "        \"M\",\n",
       "        start,\n",
       "        height - 30, // the arc starts at the coordinate x=start, y=height-30 (where the starting node is)\n",
       "        \"A\", // This means we're gonna build an elliptical arc\n",
       "        (start - end) / 2,\n",
       "        \",\", // Next 2 lines are the coordinates of the inflexion point. Height of this point is proportional with start - end distance\n",
       "        (start - end) / 2,\n",
       "        0,\n",
       "        0,\n",
       "        \",\",\n",
       "        start < end ? 1 : 0,\n",
       "        end,\n",
       "        \",\",\n",
       "        height - 30,\n",
       "      ] // We always want the arc on top. So if end is before start, putting 0 here turn the arc upside down.\n",
       "        .join(\" \");\n",
       "    })\n",
       "    .style(\"fill\", \"none\")\n",
       "    .attr(\"stroke\", \"grey\")\n",
       "    .style(\"stroke-width\", (d) => { return d.value/2.5});\n",
       "\n",
       "  // Add the circle for the nodes\n",
       "  const nodes = svg\n",
       "    .selectAll(\"mynodes\")\n",
       "    .data(\n",
       "      data.nodes.sort((a, b) => {\n",
       "        +b.n - +a.n;\n",
       "      })\n",
       "    )\n",
       "    .join(\"circle\")\n",
       "    .attr(\"cx\", (d) => x(d.name))\n",
       "    .attr(\"cy\", height - 30)\n",
       "    .attr(\"r\", (d) => 8)\n",
       "    .style(\"fill\", (d) => color(d.group))\n",
       "    .attr(\"stroke\", \"white\");\n",
       "\n",
       "  // And give them a label\n",
       "  const labels = svg\n",
       "    .selectAll(\"mylabels\")\n",
       "    .data(data.nodes)\n",
       "    .join(\"text\")\n",
       "    .attr(\"x\", 0)\n",
       "    .attr(\"y\", 0)\n",
       "    .text((d) => d.name)\n",
       "    .style(\"text-anchor\", \"end\")\n",
       "    .attr(\n",
       "      \"transform\",\n",
       "      (d) => \"translate(\" + (x(d.name)) + \",\" + (height-15) + \")rotate(-90)\"\n",
       "    )\n",
       "    .style(\"font-size\", 10);\n",
       "  // Add the highlighting functionality\n",
       "  nodes\n",
       "    .on(\"mouseover\", function (event, d) {\n",
       "      // Highlight the nodes: every node is green except of him\n",
       "      nodes.style(\"opacity\", 0.2);\n",
       "      d3.select(this).style(\"opacity\", 1);\n",
       "      // Highlight the connections\n",
       "      links\n",
       "        .style(\"stroke\", (a) =>\n",
       "          a.source === d.group || a.target === d.group ? color(d.order) : \"#b8b8b8\"\n",
       "        )\n",
       "        .style(\"stroke-opacity\", (a) =>\n",
       "          a.source === d.group || a.target === d.group ? 1 : 0.2\n",
       "        )\n",
       "        .style(\"stroke-width\", (a) =>\n",
       "          a.source === d.group || a.target === d.group ? (d) => { return d.value/2.5} : 1\n",
       "        );\n",
       "      labels.style(\"font-size\", (b) => (b.name === d.name ? 11 : 8));\n",
       "    })\n",
       "    .on(\"mouseout\", (d) => {\n",
       "      nodes.style(\"opacity\", 1);\n",
       "      links\n",
       "        .style(\"stroke\", \"grey\")\n",
       "        .style(\"stroke-opacity\", 0.8)\n",
       "        .style(\"stroke-width\", (d) => { return d.value/2.5});\n",
       "      labels.style(\"font-size\", 10);\n",
       "    });\n",
       "//});\n",
       " </script>\n"
      ],
      "text/plain": [
       "<IPython.core.display.HTML object>"
      ]
     },
     "execution_count": 45,
     "metadata": {},
     "output_type": "execute_result"
    }
   ],
   "source": [
    "# Cargar datos al js\n",
    "js_text = js_text_template.substitute({'python_data': json.dumps(data),\n",
    "                                       'my_dataviz': 'my_dataviz'})\n",
    "HTML(html_template.substitute({'js_text': js_text}))  # Cargar js_text al html"
   ]
  },
  {
   "cell_type": "markdown",
   "metadata": {},
   "source": [
    "#### 7.3 Mostrar en el navegador"
   ]
  },
  {
   "cell_type": "markdown",
   "metadata": {},
   "source": [
    "Al intentar mostrar la gráfica en VisualCode, solo se muestra el área que requieré el gráfico, pero no el gráfico. Por lo tanto, opté por generar un archivo html para la visualización fuera de VisualCode."
   ]
  },
  {
   "cell_type": "code",
   "execution_count": 46,
   "metadata": {},
   "outputs": [],
   "source": [
    "with open(\"grafica_agrupaciones.html\", \"w\") as file:\n",
    "   file.write(html_template.substitute({'js_text':js_text})) # Generar archivo html con los datos del json"
   ]
  },
  {
   "cell_type": "code",
   "execution_count": 9,
   "metadata": {},
   "outputs": [
    {
     "data": {
      "text/plain": [
       "True"
      ]
     },
     "execution_count": 9,
     "metadata": {},
     "output_type": "execute_result"
    }
   ],
   "source": [
    "webbrowser.open_new_tab('grafica_agrupaciones.html') # Abrir archivo html exportado en el navegador"
   ]
  }
 ],
 "metadata": {
  "interpreter": {
   "hash": "1f5e7837697879d0aae1501dfdc6098d9e03a8682a0971f6b476e0938f849762"
  },
  "kernelspec": {
   "display_name": "Python 3.9.13 64-bit (windows store)",
   "language": "python",
   "name": "python3"
  },
  "language_info": {
   "codemirror_mode": {
    "name": "ipython",
    "version": 3
   },
   "file_extension": ".py",
   "mimetype": "text/x-python",
   "name": "python",
   "nbconvert_exporter": "python",
   "pygments_lexer": "ipython3",
   "version": "3.9.13"
  },
  "orig_nbformat": 4
 },
 "nbformat": 4,
 "nbformat_minor": 2
}
