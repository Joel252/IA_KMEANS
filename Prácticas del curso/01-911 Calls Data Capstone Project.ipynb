{
 "cells": [
  {
   "cell_type": "markdown",
   "metadata": {},
   "source": [
    "# 911 Calls Capstone Project"
   ]
  },
  {
   "cell_type": "markdown",
   "metadata": {},
   "source": [
    "For this capstone project we will be analyzing some 911 call data from [Kaggle](https://www.kaggle.com/mchirico/montcoalert). The data contains the following fields:\n",
    "\n",
    "* lat : String variable, Latitude\n",
    "* lng: String variable, Longitude\n",
    "* desc: String variable, Description of the Emergency Call\n",
    "* zip: String variable, Zipcode\n",
    "* title: String variable, Title\n",
    "* timeStamp: String variable, YYYY-MM-DD HH:MM:SS\n",
    "* twp: String variable, Township\n",
    "* addr: String variable, Address\n",
    "* e: String variable, Dummy variable (always 1)\n",
    "\n",
    "Just go along with this notebook and try to complete the instructions or answer the questions in bold using your Python and Data Science skills!"
   ]
  },
  {
   "cell_type": "markdown",
   "metadata": {},
   "source": [
    "## Data and Setup"
   ]
  },
  {
   "cell_type": "markdown",
   "metadata": {},
   "source": [
    "____\n",
    "** Import numpy and pandas **"
   ]
  },
  {
   "cell_type": "code",
   "execution_count": 2,
   "metadata": {
    "collapsed": true
   },
   "outputs": [],
   "source": [
    "import numpy as np\n",
    "import pandas as pd"
   ]
  },
  {
   "cell_type": "markdown",
   "metadata": {},
   "source": [
    "** Import visualization libraries and set %matplotlib inline. **"
   ]
  },
  {
   "cell_type": "code",
   "execution_count": 37,
   "metadata": {
    "collapsed": false
   },
   "outputs": [],
   "source": [
    "import matplotlib.pyplot as plt\n",
    "import seaborn as sns\n",
    "sns.set_style('whitegrid')\n",
    "%matplotlib inline"
   ]
  },
  {
   "cell_type": "markdown",
   "metadata": {},
   "source": [
    "** Read in the csv file as a dataframe called df **"
   ]
  },
  {
   "cell_type": "code",
   "execution_count": 4,
   "metadata": {
    "collapsed": true
   },
   "outputs": [],
   "source": [
    "df = pd.read_csv('911.csv')"
   ]
  },
  {
   "cell_type": "markdown",
   "metadata": {},
   "source": [
    "** Check the info() of the df **"
   ]
  },
  {
   "cell_type": "code",
   "execution_count": 5,
   "metadata": {
    "collapsed": false
   },
   "outputs": [
    {
     "name": "stdout",
     "output_type": "stream",
     "text": [
      "<class 'pandas.core.frame.DataFrame'>\n",
      "RangeIndex: 99492 entries, 0 to 99491\n",
      "Data columns (total 9 columns):\n",
      " #   Column     Non-Null Count  Dtype  \n",
      "---  ------     --------------  -----  \n",
      " 0   lat        99492 non-null  float64\n",
      " 1   lng        99492 non-null  float64\n",
      " 2   desc       99492 non-null  object \n",
      " 3   zip        86637 non-null  float64\n",
      " 4   title      99492 non-null  object \n",
      " 5   timeStamp  99492 non-null  object \n",
      " 6   twp        99449 non-null  object \n",
      " 7   addr       98973 non-null  object \n",
      " 8   e          99492 non-null  int64  \n",
      "dtypes: float64(3), int64(1), object(5)\n",
      "memory usage: 6.8+ MB\n"
     ]
    }
   ],
   "source": [
    "df.info()"
   ]
  },
  {
   "cell_type": "markdown",
   "metadata": {
    "collapsed": false
   },
   "source": [
    "** Check the head of df **"
   ]
  },
  {
   "cell_type": "code",
   "execution_count": 6,
   "metadata": {
    "collapsed": false
   },
   "outputs": [
    {
     "data": {
      "text/html": [
       "<div>\n",
       "<style scoped>\n",
       "    .dataframe tbody tr th:only-of-type {\n",
       "        vertical-align: middle;\n",
       "    }\n",
       "\n",
       "    .dataframe tbody tr th {\n",
       "        vertical-align: top;\n",
       "    }\n",
       "\n",
       "    .dataframe thead th {\n",
       "        text-align: right;\n",
       "    }\n",
       "</style>\n",
       "<table border=\"1\" class=\"dataframe\">\n",
       "  <thead>\n",
       "    <tr style=\"text-align: right;\">\n",
       "      <th></th>\n",
       "      <th>lat</th>\n",
       "      <th>lng</th>\n",
       "      <th>desc</th>\n",
       "      <th>zip</th>\n",
       "      <th>title</th>\n",
       "      <th>timeStamp</th>\n",
       "      <th>twp</th>\n",
       "      <th>addr</th>\n",
       "      <th>e</th>\n",
       "    </tr>\n",
       "  </thead>\n",
       "  <tbody>\n",
       "    <tr>\n",
       "      <th>0</th>\n",
       "      <td>40.297876</td>\n",
       "      <td>-75.581294</td>\n",
       "      <td>REINDEER CT &amp; DEAD END;  NEW HANOVER; Station ...</td>\n",
       "      <td>19525.0</td>\n",
       "      <td>EMS: BACK PAINS/INJURY</td>\n",
       "      <td>2015-12-10 17:40:00</td>\n",
       "      <td>NEW HANOVER</td>\n",
       "      <td>REINDEER CT &amp; DEAD END</td>\n",
       "      <td>1</td>\n",
       "    </tr>\n",
       "    <tr>\n",
       "      <th>1</th>\n",
       "      <td>40.258061</td>\n",
       "      <td>-75.264680</td>\n",
       "      <td>BRIAR PATH &amp; WHITEMARSH LN;  HATFIELD TOWNSHIP...</td>\n",
       "      <td>19446.0</td>\n",
       "      <td>EMS: DIABETIC EMERGENCY</td>\n",
       "      <td>2015-12-10 17:40:00</td>\n",
       "      <td>HATFIELD TOWNSHIP</td>\n",
       "      <td>BRIAR PATH &amp; WHITEMARSH LN</td>\n",
       "      <td>1</td>\n",
       "    </tr>\n",
       "    <tr>\n",
       "      <th>2</th>\n",
       "      <td>40.121182</td>\n",
       "      <td>-75.351975</td>\n",
       "      <td>HAWS AVE; NORRISTOWN; 2015-12-10 @ 14:39:21-St...</td>\n",
       "      <td>19401.0</td>\n",
       "      <td>Fire: GAS-ODOR/LEAK</td>\n",
       "      <td>2015-12-10 17:40:00</td>\n",
       "      <td>NORRISTOWN</td>\n",
       "      <td>HAWS AVE</td>\n",
       "      <td>1</td>\n",
       "    </tr>\n",
       "    <tr>\n",
       "      <th>3</th>\n",
       "      <td>40.116153</td>\n",
       "      <td>-75.343513</td>\n",
       "      <td>AIRY ST &amp; SWEDE ST;  NORRISTOWN; Station 308A;...</td>\n",
       "      <td>19401.0</td>\n",
       "      <td>EMS: CARDIAC EMERGENCY</td>\n",
       "      <td>2015-12-10 17:40:01</td>\n",
       "      <td>NORRISTOWN</td>\n",
       "      <td>AIRY ST &amp; SWEDE ST</td>\n",
       "      <td>1</td>\n",
       "    </tr>\n",
       "    <tr>\n",
       "      <th>4</th>\n",
       "      <td>40.251492</td>\n",
       "      <td>-75.603350</td>\n",
       "      <td>CHERRYWOOD CT &amp; DEAD END;  LOWER POTTSGROVE; S...</td>\n",
       "      <td>NaN</td>\n",
       "      <td>EMS: DIZZINESS</td>\n",
       "      <td>2015-12-10 17:40:01</td>\n",
       "      <td>LOWER POTTSGROVE</td>\n",
       "      <td>CHERRYWOOD CT &amp; DEAD END</td>\n",
       "      <td>1</td>\n",
       "    </tr>\n",
       "  </tbody>\n",
       "</table>\n",
       "</div>"
      ],
      "text/plain": [
       "         lat        lng                                               desc  \\\n",
       "0  40.297876 -75.581294  REINDEER CT & DEAD END;  NEW HANOVER; Station ...   \n",
       "1  40.258061 -75.264680  BRIAR PATH & WHITEMARSH LN;  HATFIELD TOWNSHIP...   \n",
       "2  40.121182 -75.351975  HAWS AVE; NORRISTOWN; 2015-12-10 @ 14:39:21-St...   \n",
       "3  40.116153 -75.343513  AIRY ST & SWEDE ST;  NORRISTOWN; Station 308A;...   \n",
       "4  40.251492 -75.603350  CHERRYWOOD CT & DEAD END;  LOWER POTTSGROVE; S...   \n",
       "\n",
       "       zip                    title            timeStamp                twp  \\\n",
       "0  19525.0   EMS: BACK PAINS/INJURY  2015-12-10 17:40:00        NEW HANOVER   \n",
       "1  19446.0  EMS: DIABETIC EMERGENCY  2015-12-10 17:40:00  HATFIELD TOWNSHIP   \n",
       "2  19401.0      Fire: GAS-ODOR/LEAK  2015-12-10 17:40:00         NORRISTOWN   \n",
       "3  19401.0   EMS: CARDIAC EMERGENCY  2015-12-10 17:40:01         NORRISTOWN   \n",
       "4      NaN           EMS: DIZZINESS  2015-12-10 17:40:01   LOWER POTTSGROVE   \n",
       "\n",
       "                         addr  e  \n",
       "0      REINDEER CT & DEAD END  1  \n",
       "1  BRIAR PATH & WHITEMARSH LN  1  \n",
       "2                    HAWS AVE  1  \n",
       "3          AIRY ST & SWEDE ST  1  \n",
       "4    CHERRYWOOD CT & DEAD END  1  "
      ]
     },
     "execution_count": 6,
     "metadata": {},
     "output_type": "execute_result"
    }
   ],
   "source": [
    "df.head()"
   ]
  },
  {
   "cell_type": "markdown",
   "metadata": {},
   "source": [
    "## Basic Questions"
   ]
  },
  {
   "cell_type": "markdown",
   "metadata": {},
   "source": [
    "** What are the top 5 zipcodes for 911 calls? **"
   ]
  },
  {
   "cell_type": "code",
   "execution_count": 7,
   "metadata": {
    "collapsed": false
   },
   "outputs": [
    {
     "data": {
      "text/plain": [
       "19401.0    6979\n",
       "19464.0    6643\n",
       "19403.0    4854\n",
       "19446.0    4748\n",
       "19406.0    3174\n",
       "Name: zip, dtype: int64"
      ]
     },
     "execution_count": 7,
     "metadata": {},
     "output_type": "execute_result"
    }
   ],
   "source": [
    "df['zip'].value_counts().head(5)"
   ]
  },
  {
   "cell_type": "markdown",
   "metadata": {},
   "source": [
    "** What are the top 5 townships (twp) for 911 calls? **"
   ]
  },
  {
   "cell_type": "code",
   "execution_count": 8,
   "metadata": {
    "collapsed": false
   },
   "outputs": [
    {
     "data": {
      "text/plain": [
       "LOWER MERION    8443\n",
       "ABINGTON        5977\n",
       "NORRISTOWN      5890\n",
       "UPPER MERION    5227\n",
       "CHELTENHAM      4575\n",
       "Name: twp, dtype: int64"
      ]
     },
     "execution_count": 8,
     "metadata": {},
     "output_type": "execute_result"
    }
   ],
   "source": [
    "df['twp'].value_counts().head(5)"
   ]
  },
  {
   "cell_type": "markdown",
   "metadata": {},
   "source": [
    "** Take a look at the 'title' column, how many unique title codes are there? **"
   ]
  },
  {
   "cell_type": "code",
   "execution_count": 9,
   "metadata": {
    "collapsed": false
   },
   "outputs": [
    {
     "data": {
      "text/plain": [
       "110"
      ]
     },
     "execution_count": 9,
     "metadata": {},
     "output_type": "execute_result"
    }
   ],
   "source": [
    "df['title'].nunique()"
   ]
  },
  {
   "cell_type": "markdown",
   "metadata": {},
   "source": [
    "## Creating new features"
   ]
  },
  {
   "cell_type": "markdown",
   "metadata": {},
   "source": [
    "** In the titles column there are \"Reasons/Departments\" specified before the title code. These are EMS, Fire, and Traffic. Use .apply() with a custom lambda expression to create a new column called \"Reason\" that contains this string value.** \n",
    "\n",
    "**For example, if the title column value is EMS: BACK PAINS/INJURY , the Reason column value would be EMS. **"
   ]
  },
  {
   "cell_type": "code",
   "execution_count": 10,
   "metadata": {
    "collapsed": true
   },
   "outputs": [],
   "source": [
    "df['Reason'] = df['title'].apply(lambda title: title.split(':')[0])"
   ]
  },
  {
   "cell_type": "markdown",
   "metadata": {},
   "source": [
    "** What is the most common Reason for a 911 call based off of this new column? **"
   ]
  },
  {
   "cell_type": "code",
   "execution_count": 11,
   "metadata": {
    "collapsed": false
   },
   "outputs": [
    {
     "data": {
      "text/plain": [
       "EMS        48877\n",
       "Traffic    35695\n",
       "Fire       14920\n",
       "Name: Reason, dtype: int64"
      ]
     },
     "execution_count": 11,
     "metadata": {},
     "output_type": "execute_result"
    }
   ],
   "source": [
    "df['Reason'].value_counts()"
   ]
  },
  {
   "cell_type": "markdown",
   "metadata": {},
   "source": [
    "** Now use seaborn to create a countplot of 911 calls by Reason. **"
   ]
  },
  {
   "cell_type": "code",
   "execution_count": 12,
   "metadata": {
    "collapsed": false
   },
   "outputs": [
    {
     "data": {
      "text/plain": [
       "<AxesSubplot:xlabel='Reason', ylabel='count'>"
      ]
     },
     "execution_count": 12,
     "metadata": {},
     "output_type": "execute_result"
    },
    {
     "data": {
      "image/png": "[encoded data removed]",
      "text/plain": [
       "<Figure size 432x288 with 1 Axes>"
      ]
     },
     "metadata": {
      "needs_background": "light"
     },
     "output_type": "display_data"
    }
   ],
   "source": [
    "sns.countplot(x='Reason', data=df, palette='viridis')"
   ]
  },
  {
   "cell_type": "markdown",
   "metadata": {},
   "source": [
    "___\n",
    "** Now let us begin to focus on time information. What is the data type of the objects in the timeStamp column? **"
   ]
  },
  {
   "cell_type": "code",
   "execution_count": 13,
   "metadata": {
    "collapsed": false
   },
   "outputs": [
    {
     "data": {
      "text/plain": [
       "str"
      ]
     },
     "execution_count": 13,
     "metadata": {},
     "output_type": "execute_result"
    }
   ],
   "source": [
    "type(df['timeStamp'][0])"
   ]
  },
  {
   "cell_type": "markdown",
   "metadata": {},
   "source": [
    "** You should have seen that these timestamps are still strings. Use [pd.to_datetime](http://pandas.pydata.org/pandas-docs/stable/generated/pandas.to_datetime.html) to convert the column from strings to DateTime objects. **"
   ]
  },
  {
   "cell_type": "code",
   "execution_count": 14,
   "metadata": {
    "collapsed": true
   },
   "outputs": [],
   "source": [
    "df['timeStamp'] = pd.to_datetime(df['timeStamp'])"
   ]
  },
  {
   "cell_type": "markdown",
   "metadata": {},
   "source": [
    "** You can now grab specific attributes from a Datetime object by calling them. For example:**\n",
    "\n",
    "    time = df['timeStamp'].iloc[0]\n",
    "    time.hour\n",
    "\n",
    "**You can use Jupyter's tab method to explore the various attributes you can call. Now that the timestamp column are actually DateTime objects, use .apply() to create 3 new columns called Hour, Month, and Day of Week. You will create these columns based off of the timeStamp column, reference the solutions if you get stuck on this step.**"
   ]
  },
  {
   "cell_type": "code",
   "execution_count": 83,
   "metadata": {
    "collapsed": false
   },
   "outputs": [],
   "source": [
    "df['Hour'] = df['timeStamp'].apply(lambda time: time.hour)\n",
    "df['Month'] = df['timeStamp'].apply(lambda time: time.month)\n",
    "df['Day of Week'] = df['timeStamp'].apply(lambda time: time.dayofweek)"
   ]
  },
  {
   "cell_type": "markdown",
   "metadata": {
    "collapsed": false
   },
   "source": [
    "** Notice how the Day of Week is an integer 0-6. Use the .map() with this dictionary to map the actual string names to the day of the week: **\n",
    "\n",
    "    dmap = {0:'Mon',1:'Tue',2:'Wed',3:'Thu',4:'Fri',5:'Sat',6:'Sun'}"
   ]
  },
  {
   "cell_type": "code",
   "execution_count": 84,
   "metadata": {
    "collapsed": false
   },
   "outputs": [],
   "source": [
    "dmap = {0:'Mon',1:'Tue',2:'Wed',3:'Thu',4:'Fri',5:'Sat',6:'Sun'}"
   ]
  },
  {
   "cell_type": "code",
   "execution_count": 85,
   "metadata": {
    "collapsed": false
   },
   "outputs": [],
   "source": [
    "df['Day of Week'] = df['Day of Week'].map(dmap)"
   ]
  },
  {
   "cell_type": "markdown",
   "metadata": {
    "collapsed": false
   },
   "source": [
    "** Now use seaborn to create a countplot of the Day of Week column with the hue based off of the Reason column. **"
   ]
  },
  {
   "cell_type": "code",
   "execution_count": 87,
   "metadata": {
    "collapsed": false
   },
   "outputs": [
    {
     "data": {
      "text/plain": [
       "<matplotlib.legend.Legend at 0x24b3baf7160>"
      ]
     },
     "execution_count": 87,
     "metadata": {},
     "output_type": "execute_result"
    },
    {
     "data": {
      "image/png": "[encoded data removed]",
      "text/plain": [
       "<Figure size 432x288 with 1 Axes>"
      ]
     },
     "metadata": {
      "needs_background": "light"
     },
     "output_type": "display_data"
    }
   ],
   "source": [
    "sns.countplot(x='Day of Week', data=df, hue='Reason')\n",
    "plt.legend(bbox_to_anchor=(1, 1))"
   ]
  },
  {
   "cell_type": "markdown",
   "metadata": {},
   "source": [
    "**Now do the same for Month:**"
   ]
  },
  {
   "cell_type": "code",
   "execution_count": 88,
   "metadata": {
    "collapsed": false
   },
   "outputs": [
    {
     "data": {
      "text/plain": [
       "<matplotlib.legend.Legend at 0x24b3fa063a0>"
      ]
     },
     "execution_count": 88,
     "metadata": {},
     "output_type": "execute_result"
    },
    {
     "data": {
      "image/png": "[encoded data removed]",
      "text/plain": [
       "<Figure size 432x288 with 1 Axes>"
      ]
     },
     "metadata": {
      "needs_background": "light"
     },
     "output_type": "display_data"
    }
   ],
   "source": [
    "sns.countplot(x='Month', data=df, hue='Reason')\n",
    "plt.legend(bbox_to_anchor=(1.23, 1))"
   ]
  },
  {
   "cell_type": "markdown",
   "metadata": {},
   "source": [
    "**Did you notice something strange about the Plot?**\n",
    "\n",
    "R= Faltan los meses 9, 10 y 11.\n",
    "\n",
    "** You should have noticed it was missing some Months, let's see if we can maybe fill in this information by plotting the information in another way, possibly a simple line plot that fills in the missing months, in order to do this, we'll need to do some work with pandas... **"
   ]
  },
  {
   "cell_type": "markdown",
   "metadata": {},
   "source": [
    "** Now create a gropuby object called byMonth, where you group the DataFrame by the month column and use the count() method for aggregation. Use the head() method on this returned DataFrame. **"
   ]
  },
  {
   "cell_type": "code",
   "execution_count": 89,
   "metadata": {
    "collapsed": false
   },
   "outputs": [
    {
     "data": {
      "text/html": [
       "<div>\n",
       "<style scoped>\n",
       "    .dataframe tbody tr th:only-of-type {\n",
       "        vertical-align: middle;\n",
       "    }\n",
       "\n",
       "    .dataframe tbody tr th {\n",
       "        vertical-align: top;\n",
       "    }\n",
       "\n",
       "    .dataframe thead th {\n",
       "        text-align: right;\n",
       "    }\n",
       "</style>\n",
       "<table border=\"1\" class=\"dataframe\">\n",
       "  <thead>\n",
       "    <tr style=\"text-align: right;\">\n",
       "      <th></th>\n",
       "      <th>lat</th>\n",
       "      <th>lng</th>\n",
       "      <th>desc</th>\n",
       "      <th>zip</th>\n",
       "      <th>title</th>\n",
       "      <th>timeStamp</th>\n",
       "      <th>twp</th>\n",
       "      <th>addr</th>\n",
       "      <th>e</th>\n",
       "      <th>Reason</th>\n",
       "      <th>Hour</th>\n",
       "      <th>Day of Week</th>\n",
       "      <th>Date</th>\n",
       "    </tr>\n",
       "    <tr>\n",
       "      <th>Month</th>\n",
       "      <th></th>\n",
       "      <th></th>\n",
       "      <th></th>\n",
       "      <th></th>\n",
       "      <th></th>\n",
       "      <th></th>\n",
       "      <th></th>\n",
       "      <th></th>\n",
       "      <th></th>\n",
       "      <th></th>\n",
       "      <th></th>\n",
       "      <th></th>\n",
       "      <th></th>\n",
       "    </tr>\n",
       "  </thead>\n",
       "  <tbody>\n",
       "    <tr>\n",
       "      <th>1</th>\n",
       "      <td>13205</td>\n",
       "      <td>13205</td>\n",
       "      <td>13205</td>\n",
       "      <td>11527</td>\n",
       "      <td>13205</td>\n",
       "      <td>13205</td>\n",
       "      <td>13203</td>\n",
       "      <td>13096</td>\n",
       "      <td>13205</td>\n",
       "      <td>13205</td>\n",
       "      <td>13205</td>\n",
       "      <td>13205</td>\n",
       "      <td>13205</td>\n",
       "    </tr>\n",
       "    <tr>\n",
       "      <th>2</th>\n",
       "      <td>11467</td>\n",
       "      <td>11467</td>\n",
       "      <td>11467</td>\n",
       "      <td>9930</td>\n",
       "      <td>11467</td>\n",
       "      <td>11467</td>\n",
       "      <td>11465</td>\n",
       "      <td>11396</td>\n",
       "      <td>11467</td>\n",
       "      <td>11467</td>\n",
       "      <td>11467</td>\n",
       "      <td>11467</td>\n",
       "      <td>11467</td>\n",
       "    </tr>\n",
       "    <tr>\n",
       "      <th>3</th>\n",
       "      <td>11101</td>\n",
       "      <td>11101</td>\n",
       "      <td>11101</td>\n",
       "      <td>9755</td>\n",
       "      <td>11101</td>\n",
       "      <td>11101</td>\n",
       "      <td>11092</td>\n",
       "      <td>11059</td>\n",
       "      <td>11101</td>\n",
       "      <td>11101</td>\n",
       "      <td>11101</td>\n",
       "      <td>11101</td>\n",
       "      <td>11101</td>\n",
       "    </tr>\n",
       "    <tr>\n",
       "      <th>4</th>\n",
       "      <td>11326</td>\n",
       "      <td>11326</td>\n",
       "      <td>11326</td>\n",
       "      <td>9895</td>\n",
       "      <td>11326</td>\n",
       "      <td>11326</td>\n",
       "      <td>11323</td>\n",
       "      <td>11283</td>\n",
       "      <td>11326</td>\n",
       "      <td>11326</td>\n",
       "      <td>11326</td>\n",
       "      <td>11326</td>\n",
       "      <td>11326</td>\n",
       "    </tr>\n",
       "    <tr>\n",
       "      <th>5</th>\n",
       "      <td>11423</td>\n",
       "      <td>11423</td>\n",
       "      <td>11423</td>\n",
       "      <td>9946</td>\n",
       "      <td>11423</td>\n",
       "      <td>11423</td>\n",
       "      <td>11420</td>\n",
       "      <td>11378</td>\n",
       "      <td>11423</td>\n",
       "      <td>11423</td>\n",
       "      <td>11423</td>\n",
       "      <td>11423</td>\n",
       "      <td>11423</td>\n",
       "    </tr>\n",
       "  </tbody>\n",
       "</table>\n",
       "</div>"
      ],
      "text/plain": [
       "         lat    lng   desc    zip  title  timeStamp    twp   addr      e  \\\n",
       "Month                                                                      \n",
       "1      13205  13205  13205  11527  13205      13205  13203  13096  13205   \n",
       "2      11467  11467  11467   9930  11467      11467  11465  11396  11467   \n",
       "3      11101  11101  11101   9755  11101      11101  11092  11059  11101   \n",
       "4      11326  11326  11326   9895  11326      11326  11323  11283  11326   \n",
       "5      11423  11423  11423   9946  11423      11423  11420  11378  11423   \n",
       "\n",
       "       Reason   Hour  Day of Week   Date  \n",
       "Month                                     \n",
       "1       13205  13205        13205  13205  \n",
       "2       11467  11467        11467  11467  \n",
       "3       11101  11101        11101  11101  \n",
       "4       11326  11326        11326  11326  \n",
       "5       11423  11423        11423  11423  "
      ]
     },
     "execution_count": 89,
     "metadata": {},
     "output_type": "execute_result"
    }
   ],
   "source": [
    "byMonth = df.groupby('Month').count()\n",
    "byMonth.head()"
   ]
  },
  {
   "cell_type": "markdown",
   "metadata": {},
   "source": [
    "** Now create a simple plot off of the dataframe indicating the count of calls per month. **"
   ]
  },
  {
   "cell_type": "code",
   "execution_count": 90,
   "metadata": {
    "collapsed": false
   },
   "outputs": [
    {
     "data": {
      "text/plain": [
       "<AxesSubplot:xlabel='Month'>"
      ]
     },
     "execution_count": 90,
     "metadata": {},
     "output_type": "execute_result"
    },
    {
     "data": {
      "image/png": "[encoded data removed]",
      "text/plain": [
       "<Figure size 432x288 with 1 Axes>"
      ]
     },
     "metadata": {
      "needs_background": "light"
     },
     "output_type": "display_data"
    }
   ],
   "source": [
    "byMonth['twp'].plot()"
   ]
  },
  {
   "cell_type": "markdown",
   "metadata": {},
   "source": [
    "** Now see if you can use seaborn's lmplot() to create a linear fit on the number of calls per month. Keep in mind you may need to reset the index to a column. **"
   ]
  },
  {
   "cell_type": "code",
   "execution_count": 91,
   "metadata": {
    "collapsed": false
   },
   "outputs": [
    {
     "data": {
      "text/plain": [
       "<seaborn.axisgrid.FacetGrid at 0x24b3fbc01c0>"
      ]
     },
     "execution_count": 91,
     "metadata": {},
     "output_type": "execute_result"
    },
    {
     "data": {
      "image/png": "[encoded data removed]",
      "text/plain": [
       "<Figure size 360x360 with 1 Axes>"
      ]
     },
     "metadata": {
      "needs_background": "light"
     },
     "output_type": "display_data"
    }
   ],
   "source": [
    "sns.lmplot(x='Month', y='twp', data=byMonth.reset_index())"
   ]
  },
  {
   "cell_type": "markdown",
   "metadata": {},
   "source": [
    "**Create a new column called 'Date' that contains the date from the timeStamp column. You'll need to use apply along with the .date() method. ** "
   ]
  },
  {
   "cell_type": "code",
   "execution_count": 92,
   "metadata": {
    "collapsed": true
   },
   "outputs": [],
   "source": [
    "df['Date'] = df['timeStamp'].apply(lambda time: time.date())"
   ]
  },
  {
   "cell_type": "markdown",
   "metadata": {},
   "source": [
    "** Now groupby this Date column with the count() aggregate and create a plot of counts of 911 calls.**"
   ]
  },
  {
   "cell_type": "code",
   "execution_count": 93,
   "metadata": {
    "collapsed": false
   },
   "outputs": [
    {
     "data": {
      "image/png": "[encoded data removed]",
      "text/plain": [
       "<Figure size 432x288 with 1 Axes>"
      ]
     },
     "metadata": {
      "needs_background": "light"
     },
     "output_type": "display_data"
    }
   ],
   "source": [
    "df.groupby('Date').count()['twp'].plot()\n",
    "plt.tight_layout()"
   ]
  },
  {
   "cell_type": "markdown",
   "metadata": {},
   "source": [
    "** Now recreate this plot but create 3 separate plots with each plot representing a Reason for the 911 call**"
   ]
  },
  {
   "cell_type": "code",
   "execution_count": 94,
   "metadata": {
    "collapsed": false
   },
   "outputs": [
    {
     "data": {
      "image/png": "[encoded data removed]",
      "text/plain": [
       "<Figure size 432x288 with 1 Axes>"
      ]
     },
     "metadata": {
      "needs_background": "light"
     },
     "output_type": "display_data"
    }
   ],
   "source": [
    "df[df['Reason']=='EMS'].groupby('Date').count()['twp'].plot()\n",
    "plt.tight_layout()"
   ]
  },
  {
   "cell_type": "code",
   "execution_count": 95,
   "metadata": {
    "collapsed": false
   },
   "outputs": [
    {
     "data": {
      "image/png": "[encoded data removed]",
      "text/plain": [
       "<Figure size 432x288 with 1 Axes>"
      ]
     },
     "metadata": {
      "needs_background": "light"
     },
     "output_type": "display_data"
    }
   ],
   "source": [
    "df[df['Reason']=='Traffic'].groupby('Date').count()['twp'].plot()\n",
    "plt.tight_layout()"
   ]
  },
  {
   "cell_type": "code",
   "execution_count": 96,
   "metadata": {
    "collapsed": false
   },
   "outputs": [
    {
     "data": {
      "image/png": "[encoded data removed]",
      "text/plain": [
       "<Figure size 432x288 with 1 Axes>"
      ]
     },
     "metadata": {
      "needs_background": "light"
     },
     "output_type": "display_data"
    }
   ],
   "source": [
    "df[df['Reason']=='Fire'].groupby('Date').count()['twp'].plot()\n",
    "plt.tight_layout()"
   ]
  },
  {
   "cell_type": "markdown",
   "metadata": {
    "collapsed": false
   },
   "source": [
    "____\n",
    "** Now let's move on to creating  heatmaps with seaborn and our data. We'll first need to restructure the dataframe so that the columns become the Hours and the Index becomes the Day of the Week. There are lots of ways to do this, but I would recommend trying to combine groupby with an [unstack](http://pandas.pydata.org/pandas-docs/stable/generated/pandas.DataFrame.unstack.html) method. Reference the solutions if you get stuck on this!**"
   ]
  },
  {
   "cell_type": "code",
   "execution_count": 97,
   "metadata": {
    "collapsed": false
   },
   "outputs": [
    {
     "data": {
      "text/html": [
       "<div>\n",
       "<style scoped>\n",
       "    .dataframe tbody tr th:only-of-type {\n",
       "        vertical-align: middle;\n",
       "    }\n",
       "\n",
       "    .dataframe tbody tr th {\n",
       "        vertical-align: top;\n",
       "    }\n",
       "\n",
       "    .dataframe thead th {\n",
       "        text-align: right;\n",
       "    }\n",
       "</style>\n",
       "<table border=\"1\" class=\"dataframe\">\n",
       "  <thead>\n",
       "    <tr style=\"text-align: right;\">\n",
       "      <th>Hour</th>\n",
       "      <th>0</th>\n",
       "      <th>1</th>\n",
       "      <th>2</th>\n",
       "      <th>3</th>\n",
       "      <th>4</th>\n",
       "      <th>5</th>\n",
       "      <th>6</th>\n",
       "      <th>7</th>\n",
       "      <th>8</th>\n",
       "      <th>9</th>\n",
       "      <th>...</th>\n",
       "      <th>14</th>\n",
       "      <th>15</th>\n",
       "      <th>16</th>\n",
       "      <th>17</th>\n",
       "      <th>18</th>\n",
       "      <th>19</th>\n",
       "      <th>20</th>\n",
       "      <th>21</th>\n",
       "      <th>22</th>\n",
       "      <th>23</th>\n",
       "    </tr>\n",
       "    <tr>\n",
       "      <th>Day of Week</th>\n",
       "      <th></th>\n",
       "      <th></th>\n",
       "      <th></th>\n",
       "      <th></th>\n",
       "      <th></th>\n",
       "      <th></th>\n",
       "      <th></th>\n",
       "      <th></th>\n",
       "      <th></th>\n",
       "      <th></th>\n",
       "      <th></th>\n",
       "      <th></th>\n",
       "      <th></th>\n",
       "      <th></th>\n",
       "      <th></th>\n",
       "      <th></th>\n",
       "      <th></th>\n",
       "      <th></th>\n",
       "      <th></th>\n",
       "      <th></th>\n",
       "      <th></th>\n",
       "    </tr>\n",
       "  </thead>\n",
       "  <tbody>\n",
       "    <tr>\n",
       "      <th>Fri</th>\n",
       "      <td>275</td>\n",
       "      <td>235</td>\n",
       "      <td>191</td>\n",
       "      <td>175</td>\n",
       "      <td>201</td>\n",
       "      <td>194</td>\n",
       "      <td>372</td>\n",
       "      <td>598</td>\n",
       "      <td>742</td>\n",
       "      <td>752</td>\n",
       "      <td>...</td>\n",
       "      <td>932</td>\n",
       "      <td>980</td>\n",
       "      <td>1039</td>\n",
       "      <td>980</td>\n",
       "      <td>820</td>\n",
       "      <td>696</td>\n",
       "      <td>667</td>\n",
       "      <td>559</td>\n",
       "      <td>514</td>\n",
       "      <td>474</td>\n",
       "    </tr>\n",
       "    <tr>\n",
       "      <th>Mon</th>\n",
       "      <td>282</td>\n",
       "      <td>221</td>\n",
       "      <td>201</td>\n",
       "      <td>194</td>\n",
       "      <td>204</td>\n",
       "      <td>267</td>\n",
       "      <td>397</td>\n",
       "      <td>653</td>\n",
       "      <td>819</td>\n",
       "      <td>786</td>\n",
       "      <td>...</td>\n",
       "      <td>869</td>\n",
       "      <td>913</td>\n",
       "      <td>989</td>\n",
       "      <td>997</td>\n",
       "      <td>885</td>\n",
       "      <td>746</td>\n",
       "      <td>613</td>\n",
       "      <td>497</td>\n",
       "      <td>472</td>\n",
       "      <td>325</td>\n",
       "    </tr>\n",
       "    <tr>\n",
       "      <th>Sat</th>\n",
       "      <td>375</td>\n",
       "      <td>301</td>\n",
       "      <td>263</td>\n",
       "      <td>260</td>\n",
       "      <td>224</td>\n",
       "      <td>231</td>\n",
       "      <td>257</td>\n",
       "      <td>391</td>\n",
       "      <td>459</td>\n",
       "      <td>640</td>\n",
       "      <td>...</td>\n",
       "      <td>789</td>\n",
       "      <td>796</td>\n",
       "      <td>848</td>\n",
       "      <td>757</td>\n",
       "      <td>778</td>\n",
       "      <td>696</td>\n",
       "      <td>628</td>\n",
       "      <td>572</td>\n",
       "      <td>506</td>\n",
       "      <td>467</td>\n",
       "    </tr>\n",
       "    <tr>\n",
       "      <th>Sun</th>\n",
       "      <td>383</td>\n",
       "      <td>306</td>\n",
       "      <td>286</td>\n",
       "      <td>268</td>\n",
       "      <td>242</td>\n",
       "      <td>240</td>\n",
       "      <td>300</td>\n",
       "      <td>402</td>\n",
       "      <td>483</td>\n",
       "      <td>620</td>\n",
       "      <td>...</td>\n",
       "      <td>684</td>\n",
       "      <td>691</td>\n",
       "      <td>663</td>\n",
       "      <td>714</td>\n",
       "      <td>670</td>\n",
       "      <td>655</td>\n",
       "      <td>537</td>\n",
       "      <td>461</td>\n",
       "      <td>415</td>\n",
       "      <td>330</td>\n",
       "    </tr>\n",
       "    <tr>\n",
       "      <th>Thu</th>\n",
       "      <td>278</td>\n",
       "      <td>202</td>\n",
       "      <td>233</td>\n",
       "      <td>159</td>\n",
       "      <td>182</td>\n",
       "      <td>203</td>\n",
       "      <td>362</td>\n",
       "      <td>570</td>\n",
       "      <td>777</td>\n",
       "      <td>828</td>\n",
       "      <td>...</td>\n",
       "      <td>876</td>\n",
       "      <td>969</td>\n",
       "      <td>935</td>\n",
       "      <td>1013</td>\n",
       "      <td>810</td>\n",
       "      <td>698</td>\n",
       "      <td>617</td>\n",
       "      <td>553</td>\n",
       "      <td>424</td>\n",
       "      <td>354</td>\n",
       "    </tr>\n",
       "  </tbody>\n",
       "</table>\n",
       "<p>5 rows × 24 columns</p>\n",
       "</div>"
      ],
      "text/plain": [
       "Hour          0    1    2    3    4    5    6    7    8    9   ...   14   15  \\\n",
       "Day of Week                                                    ...             \n",
       "Fri          275  235  191  175  201  194  372  598  742  752  ...  932  980   \n",
       "Mon          282  221  201  194  204  267  397  653  819  786  ...  869  913   \n",
       "Sat          375  301  263  260  224  231  257  391  459  640  ...  789  796   \n",
       "Sun          383  306  286  268  242  240  300  402  483  620  ...  684  691   \n",
       "Thu          278  202  233  159  182  203  362  570  777  828  ...  876  969   \n",
       "\n",
       "Hour           16    17   18   19   20   21   22   23  \n",
       "Day of Week                                            \n",
       "Fri          1039   980  820  696  667  559  514  474  \n",
       "Mon           989   997  885  746  613  497  472  325  \n",
       "Sat           848   757  778  696  628  572  506  467  \n",
       "Sun           663   714  670  655  537  461  415  330  \n",
       "Thu           935  1013  810  698  617  553  424  354  \n",
       "\n",
       "[5 rows x 24 columns]"
      ]
     },
     "execution_count": 97,
     "metadata": {},
     "output_type": "execute_result"
    }
   ],
   "source": [
    "df2 = df.groupby(by = ['Day of Week', 'Hour']).count()['Reason'].unstack()\n",
    "df2.head()"
   ]
  },
  {
   "cell_type": "markdown",
   "metadata": {
    "collapsed": false
   },
   "source": [
    "** Now create a HeatMap using this new DataFrame. **"
   ]
  },
  {
   "cell_type": "code",
   "execution_count": 98,
   "metadata": {
    "collapsed": false
   },
   "outputs": [
    {
     "data": {
      "text/plain": [
       "<AxesSubplot:xlabel='Hour', ylabel='Day of Week'>"
      ]
     },
     "execution_count": 98,
     "metadata": {},
     "output_type": "execute_result"
    },
    {
     "data": {
      "image/png": "[encoded data removed]",
      "text/plain": [
       "<Figure size 432x288 with 2 Axes>"
      ]
     },
     "metadata": {
      "needs_background": "light"
     },
     "output_type": "display_data"
    }
   ],
   "source": [
    "sns.heatmap(df2, cmap='viridis')"
   ]
  },
  {
   "cell_type": "markdown",
   "metadata": {
    "collapsed": false
   },
   "source": [
    "** Now create a clustermap using this DataFrame. **"
   ]
  },
  {
   "cell_type": "code",
   "execution_count": 99,
   "metadata": {
    "collapsed": false
   },
   "outputs": [
    {
     "data": {
      "text/plain": [
       "<seaborn.matrix.ClusterGrid at 0x24b41369970>"
      ]
     },
     "execution_count": 99,
     "metadata": {},
     "output_type": "execute_result"
    },
    {
     "data": {
      "image/png": "[encoded data removed]",
      "text/plain": [
       "<Figure size 720x720 with 4 Axes>"
      ]
     },
     "metadata": {
      "needs_background": "light"
     },
     "output_type": "display_data"
    }
   ],
   "source": [
    "sns.clustermap(df2, cmap = 'viridis')"
   ]
  },
  {
   "cell_type": "markdown",
   "metadata": {},
   "source": [
    "** Now repeat these same plots and operations, for a DataFrame that shows the Month as the column. **"
   ]
  },
  {
   "cell_type": "code",
   "execution_count": 100,
   "metadata": {
    "collapsed": false
   },
   "outputs": [
    {
     "data": {
      "text/html": [
       "<div>\n",
       "<style scoped>\n",
       "    .dataframe tbody tr th:only-of-type {\n",
       "        vertical-align: middle;\n",
       "    }\n",
       "\n",
       "    .dataframe tbody tr th {\n",
       "        vertical-align: top;\n",
       "    }\n",
       "\n",
       "    .dataframe thead th {\n",
       "        text-align: right;\n",
       "    }\n",
       "</style>\n",
       "<table border=\"1\" class=\"dataframe\">\n",
       "  <thead>\n",
       "    <tr style=\"text-align: right;\">\n",
       "      <th>Month</th>\n",
       "      <th>1</th>\n",
       "      <th>2</th>\n",
       "      <th>3</th>\n",
       "      <th>4</th>\n",
       "      <th>5</th>\n",
       "      <th>6</th>\n",
       "      <th>7</th>\n",
       "      <th>8</th>\n",
       "      <th>12</th>\n",
       "    </tr>\n",
       "    <tr>\n",
       "      <th>Day of Week</th>\n",
       "      <th></th>\n",
       "      <th></th>\n",
       "      <th></th>\n",
       "      <th></th>\n",
       "      <th></th>\n",
       "      <th></th>\n",
       "      <th></th>\n",
       "      <th></th>\n",
       "      <th></th>\n",
       "    </tr>\n",
       "  </thead>\n",
       "  <tbody>\n",
       "    <tr>\n",
       "      <th>Fri</th>\n",
       "      <td>1970</td>\n",
       "      <td>1581</td>\n",
       "      <td>1525</td>\n",
       "      <td>1958</td>\n",
       "      <td>1730</td>\n",
       "      <td>1649</td>\n",
       "      <td>2045</td>\n",
       "      <td>1310</td>\n",
       "      <td>1065</td>\n",
       "    </tr>\n",
       "    <tr>\n",
       "      <th>Mon</th>\n",
       "      <td>1727</td>\n",
       "      <td>1964</td>\n",
       "      <td>1535</td>\n",
       "      <td>1598</td>\n",
       "      <td>1779</td>\n",
       "      <td>1617</td>\n",
       "      <td>1692</td>\n",
       "      <td>1511</td>\n",
       "      <td>1257</td>\n",
       "    </tr>\n",
       "    <tr>\n",
       "      <th>Sat</th>\n",
       "      <td>2291</td>\n",
       "      <td>1441</td>\n",
       "      <td>1266</td>\n",
       "      <td>1734</td>\n",
       "      <td>1444</td>\n",
       "      <td>1388</td>\n",
       "      <td>1695</td>\n",
       "      <td>1099</td>\n",
       "      <td>978</td>\n",
       "    </tr>\n",
       "    <tr>\n",
       "      <th>Sun</th>\n",
       "      <td>1960</td>\n",
       "      <td>1229</td>\n",
       "      <td>1102</td>\n",
       "      <td>1488</td>\n",
       "      <td>1424</td>\n",
       "      <td>1333</td>\n",
       "      <td>1672</td>\n",
       "      <td>1021</td>\n",
       "      <td>907</td>\n",
       "    </tr>\n",
       "    <tr>\n",
       "      <th>Thu</th>\n",
       "      <td>1584</td>\n",
       "      <td>1596</td>\n",
       "      <td>1900</td>\n",
       "      <td>1601</td>\n",
       "      <td>1590</td>\n",
       "      <td>2065</td>\n",
       "      <td>1646</td>\n",
       "      <td>1230</td>\n",
       "      <td>1266</td>\n",
       "    </tr>\n",
       "  </tbody>\n",
       "</table>\n",
       "</div>"
      ],
      "text/plain": [
       "Month          1     2     3     4     5     6     7     8     12\n",
       "Day of Week                                                      \n",
       "Fri          1970  1581  1525  1958  1730  1649  2045  1310  1065\n",
       "Mon          1727  1964  1535  1598  1779  1617  1692  1511  1257\n",
       "Sat          2291  1441  1266  1734  1444  1388  1695  1099   978\n",
       "Sun          1960  1229  1102  1488  1424  1333  1672  1021   907\n",
       "Thu          1584  1596  1900  1601  1590  2065  1646  1230  1266"
      ]
     },
     "execution_count": 100,
     "metadata": {},
     "output_type": "execute_result"
    }
   ],
   "source": [
    "df3 = df.groupby(by=['Day of Week', 'Month']).count()['Reason'].unstack()\n",
    "df3.head()"
   ]
  },
  {
   "cell_type": "code",
   "execution_count": 101,
   "metadata": {
    "collapsed": false
   },
   "outputs": [
    {
     "data": {
      "text/plain": [
       "<AxesSubplot:xlabel='Month', ylabel='Day of Week'>"
      ]
     },
     "execution_count": 101,
     "metadata": {},
     "output_type": "execute_result"
    },
    {
     "data": {
      "image/png": "[encoded data removed]",
      "text/plain": [
       "<Figure size 432x288 with 2 Axes>"
      ]
     },
     "metadata": {
      "needs_background": "light"
     },
     "output_type": "display_data"
    }
   ],
   "source": [
    "sns.heatmap(df3, cmap='viridis')"
   ]
  },
  {
   "cell_type": "code",
   "execution_count": 102,
   "metadata": {
    "collapsed": false
   },
   "outputs": [
    {
     "data": {
      "text/plain": [
       "<seaborn.matrix.ClusterGrid at 0x24b418f62e0>"
      ]
     },
     "execution_count": 102,
     "metadata": {},
     "output_type": "execute_result"
    },
    {
     "data": {
      "image/png": "[encoded data removed]",
      "text/plain": [
       "<Figure size 720x720 with 4 Axes>"
      ]
     },
     "metadata": {
      "needs_background": "light"
     },
     "output_type": "display_data"
    }
   ],
   "source": [
    "sns.clustermap(df3, cmap='viridis')"
   ]
  },
  {
   "cell_type": "markdown",
   "metadata": {
    "collapsed": true
   },
   "source": [
    "**Continue exploring the Data however you see fit!**\n",
    "# Great Job!"
   ]
  }
 ],
 "metadata": {
  "interpreter": {
   "hash": "1f5e7837697879d0aae1501dfdc6098d9e03a8682a0971f6b476e0938f849762"
  },
  "kernelspec": {
   "display_name": "Python 3.9.12 64-bit (windows store)",
   "language": "python",
   "name": "python3"
  },
  "language_info": {
   "codemirror_mode": {
    "name": "ipython",
    "version": 3
   },
   "file_extension": ".py",
   "mimetype": "text/x-python",
   "name": "python",
   "nbconvert_exporter": "python",
   "pygments_lexer": "ipython3",
   "version": "3.9.12"
  }
 },
 "nbformat": 4,
 "nbformat_minor": 0
}
